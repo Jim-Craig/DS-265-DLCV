{
  "cells": [
    {
      "cell_type": "markdown",
      "metadata": {
        "id": "KE1Rct79pdT1"
      },
      "source": [
        "# DLCV Assignment 1\n",
        "\n",
        "**Due Date: 22/02/2024 11:59PM IST**\n",
        "\n",
        "**Name:**\n",
        "\n",
        "**Sr. No.:**\n",
        "\n",
        "\n",
        "In this assignment, we will cover the following topics:\n",
        "\n",
        "1) Training a simple Linear Model\n",
        "\n",
        "2) Implementing Modules with Backprop functionality\n",
        "\n",
        "3) Implementing Convolution Module on Numpy\n",
        "\n",
        "\n",
        "It is crucial to get down to the nitty gritty of the code to implement all of these. No external packages (like caffe,pytorch etc), which directly give functions for these steps, are to be used."
      ]
    },
    {
      "cell_type": "markdown",
      "metadata": {
        "id": "Emb3Bo_NpdUl"
      },
      "source": [
        "# Training a simple Linear Model\n",
        "\n",
        "In this section, you will write the code to train a Linear Model. The goal is to classify an input $X_i$ of size $n$ into one of $m$ classes. For this, you need to consider the following:\n",
        "\n",
        "1)  **Weight Matrix** $W_{n\\times m}$: The Weights are multipled with the input $X_i$ (vector of size $n$), to find $m$ scores $S_m$ for the $m$ classes.\n",
        "\n",
        "2)  **The Loss function**:   \n",
        "  * The Cross Entropy Loss: By interpreting the scores as unnormalized log probabilities for each class, this loss tries to measure dissatisfaction with the scores in terms of the log probability of the right class:\n",
        "\n",
        "$$\n",
        "L_i = -\\log\\left(\\frac{e^{f_{y_i}}}{ \\sum_j e^{f_j} }\\right) \\hspace{0.5in} \\text{or equivalently} \\hspace{0.5in} L_i = -f_{y_i} + \\log\\sum_j e^{f_j}\n",
        "$$\n",
        "\n",
        "where $f_{ y_i }$ is the $y_i$-th element of the output of $W^T  X_i$\n",
        "\n",
        "3) **A Regularization term**: In addition to the loss, you need a Regularization term to lead to a more distributed (in case of $L_2$) or sparse (in case of $L_1$) learning of the weights. For example, with $L_2$ regularization, the loss has the following additional term:\n",
        "\n",
        "$$\n",
        "R(W) = \\sum_k\\sum_l W_{k,l}^2  \n",
        "$$\n",
        "\n",
        "Thus the total loss has the form:\n",
        "$$\n",
        "L =  \\underbrace{ \\frac{1}{N} \\sum_i L_i }_\\text{data loss} + \\underbrace{ \\lambda R(W) }_\\text{regularization loss} \\\\\\\\\n",
        "$$\n",
        "\n",
        "4) **An Optimization Procedure**: This refers to the process which tweaks the weight Matrix $W_{n\\times m}$ to reduce the loss function $L$. In our case, this refers to Mini-batch Gradient Descent algorithm. We adjust the weights $W_{n\\times m}$, based on the gradient of the loss $L$ w.r.t. $W_{n\\times m}$. This leads to:\n",
        "$$\n",
        "W_{t+1} = W_{t} - \\alpha \\frac{\\partial L}{\\partial W},\n",
        "$$\n",
        "where $\\alpha$ is the learning rate. Additionally, with \"mini-batch\" gradient descent, instead of finding loss over the whole dataset, we use a small sample $B$ of the training data to make each learning step. Hence,\n",
        "$$\n",
        "W_{t+1} = W_{t} - \\alpha \\frac{\\partial \\sum_{i \\in B}{L_{x_i}}}{\\partial W},\n",
        "$$\n",
        "where $|B|$ is the batch size."
      ]
    },
    {
      "cell_type": "markdown",
      "metadata": {
        "id": "I2neGQlEpdVD"
      },
      "source": [
        "# Question 1\n",
        "\n",
        "Train a **Single-Layer Classifier** for the MNIST dataset.\n",
        "* Use Softmax-Loss.\n",
        "* Maintain a train-validation split of the original training set for finding the right value of $\\lambda$ for the regularization, and to check for over-fitting.\n",
        "* Finally, evaluate the classification performance on the test-set.\n"
      ]
    },
    {
      "cell_type": "code",
      "source": [
        "import numpy as np # linear algebra\n",
        "import struct\n",
        "from array import array\n",
        "from os.path  import join\n",
        "import random\n",
        "import matplotlib.pyplot as plt"
      ],
      "metadata": {
        "id": "AWd82INmQcOA"
      },
      "execution_count": null,
      "outputs": []
    },
    {
      "cell_type": "code",
      "source": [
        "from google.colab import drive\n",
        "drive.mount('/content/drive')"
      ],
      "metadata": {
        "colab": {
          "base_uri": "https://localhost:8080/"
        },
        "id": "flfHFAS5Mily",
        "outputId": "481405d4-218e-4fc0-d337-7225e028525c"
      },
      "execution_count": null,
      "outputs": [
        {
          "output_type": "stream",
          "name": "stdout",
          "text": [
            "Drive already mounted at /content/drive; to attempt to forcibly remount, call drive.mount(\"/content/drive\", force_remount=True).\n"
          ]
        }
      ]
    },
    {
      "cell_type": "code",
      "source": [
        "class MnistDataloader(object):\n",
        "    def __init__(self, training_images_filepath,training_labels_filepath,\n",
        "                 test_images_filepath, test_labels_filepath):\n",
        "        self.training_images_filepath = training_images_filepath\n",
        "        self.training_labels_filepath = training_labels_filepath\n",
        "        self.test_images_filepath = test_images_filepath\n",
        "        self.test_labels_filepath = test_labels_filepath\n",
        "\n",
        "    def read_images_labels(self, images_filepath, labels_filepath):\n",
        "        labels = []\n",
        "        with open(labels_filepath, 'rb') as file:\n",
        "            magic, size = struct.unpack(\">II\", file.read(8))\n",
        "            if magic != 2049:\n",
        "                raise ValueError('Magic number mismatch, expected 2049, got {}'.format(magic))\n",
        "            labels = array(\"B\", file.read())\n",
        "\n",
        "        with open(images_filepath, 'rb') as file:\n",
        "            magic, size, rows, cols = struct.unpack(\">IIII\", file.read(16))\n",
        "            if magic != 2051:\n",
        "                raise ValueError('Magic number mismatch, expected 2051, got {}'.format(magic))\n",
        "            image_data = array(\"B\", file.read())\n",
        "        images = []\n",
        "        for i in range(size):\n",
        "            images.append([0] * rows * cols)\n",
        "        for i in range(size):\n",
        "            img = np.array(image_data[i * rows * cols:(i + 1) * rows * cols])\n",
        "            img = img.reshape(28, 28)\n",
        "            images[i][:] = img\n",
        "\n",
        "        return np.array(images), np.array(labels)\n",
        "\n",
        "    def load_data(self):\n",
        "        x_train, y_train = self.read_images_labels(self.training_images_filepath, self.training_labels_filepath)\n",
        "        x_test, y_test = self.read_images_labels(self.test_images_filepath, self.test_labels_filepath)\n",
        "        return (x_train, y_train),(x_test, y_test)\n"
      ],
      "metadata": {
        "id": "Ent9JB6LQ2ZS"
      },
      "execution_count": null,
      "outputs": []
    },
    {
      "cell_type": "code",
      "execution_count": null,
      "metadata": {
        "id": "jwa72NJTpdVc"
      },
      "outputs": [],
      "source": [
        "## Load The Mnist data:\n",
        "# Download data from http://yann.lecun.com/exdb/mnist/\n",
        "# load the data.\n",
        "def loadData():\n",
        "  input_path = '/content/drive/MyDrive/IISC/Second Semester/DLCV/archive'\n",
        "  training_images_filepath = join(input_path, 'train-images-idx3-ubyte/train-images-idx3-ubyte')\n",
        "  training_labels_filepath = join(input_path, 'train-labels-idx1-ubyte/train-labels-idx1-ubyte')\n",
        "  test_images_filepath = join(input_path, 't10k-images-idx3-ubyte/t10k-images-idx3-ubyte')\n",
        "  test_labels_filepath = join(input_path, 't10k-labels-idx1-ubyte/t10k-labels-idx1-ubyte')\n",
        "  mnist_dataloader = MnistDataloader(training_images_filepath, training_labels_filepath, test_images_filepath, test_labels_filepath)\n",
        "  (x_train, y_train), (x_test, y_test) = mnist_dataloader.load_data()\n",
        "  x_train = x_train/255\n",
        "  x_test = x_test/255\n",
        "  y_train = createLabels(y_train)\n",
        "  y_test = createLabels(y_test)\n",
        "  return (x_train, y_train), (x_test, y_test)\n",
        "\n",
        "def createLabels(labels):\n",
        "  new_labels = np.zeros((labels.size, labels.max() + 1))\n",
        "  new_labels[np.arange(labels.size), labels] = 1\n",
        "  return new_labels\n",
        "\n",
        "# maintain a train-val split\n",
        "def splitDateTrainVal(x_data, y_data, train_split = 0.8):\n",
        "  datalength = len(x_data)\n",
        "  trainSplit = train_split\n",
        "  valSplit = 1- train_split\n",
        "\n",
        "  train_size = int(datalength * trainSplit)\n",
        "  val_size = datalength - train_size\n",
        "\n",
        "  x_train = x_data[:train_size].reshape(train_size, -1).T\n",
        "  y_train = y_data[:train_size]\n",
        "  x_val = x_data[train_size:].reshape(datalength - train_size, -1).T\n",
        "  y_val = y_data[train_size:]\n",
        "\n",
        "  return x_train, y_train, x_val, y_val\n",
        "\n",
        "# Now, write a generator that yields (random) mini-batches of the input data\n",
        "# Do not use same set of mini-batches for different epochs\n",
        "\n",
        "def get_minibatch(training_x, training_y, batchSize = 32, index = 1):\n",
        "    ## Read about Python generators if required.\n",
        "\n",
        "    ## WRITE CODE HERE\n",
        "    mini_x = []\n",
        "    mini_y = []\n",
        "    sequence = random.sample(range(training_x.shape[1]), training_x.shape[1])\n",
        "    count = 1\n",
        "    for i in range(training_x.shape[index]):\n",
        "      mini_x.append(training_x[:, sequence[i]])\n",
        "      mini_y.append(training_y[sequence[i]])\n",
        "      if(len(mini_x) == batchSize):\n",
        "        yield np.array(mini_x).T, np.array(mini_y)\n",
        "        mini_x = []\n",
        "        mini_y = []\n",
        "\n",
        "    if mini_x:\n",
        "      yield np.array(mini_x).T, np.array(mini_y)"
      ]
    },
    {
      "cell_type": "code",
      "execution_count": null,
      "metadata": {
        "id": "HVMwqheRpdXo"
      },
      "outputs": [],
      "source": [
        "\n",
        "# Define the class for a Single Layer Classifier\n",
        "class Single_layer_classifier():\n",
        "\n",
        "    def __init__(self, input_size, output_size, mean = 0, variance = 1e-3):\n",
        "\n",
        "        ## WRITE CODE HERE\n",
        "\n",
        "        # Give the instance a weight matrix, initialized randomly\n",
        "        # One possible strategy for a good initialization is Normal (0, σ) where σ = 1e-3.\n",
        "        # Try experimenting with different values of σ.\n",
        "        self.Weights = np.random.normal(mean, variance, (output_size, input_size))\n",
        "\n",
        "    # Define the forward function\n",
        "    def forward(self, input_x):\n",
        "\n",
        "        # get the scores\n",
        "\n",
        "        ## WRITE CODE HERE\n",
        "        scores = self.Weights @ input_x\n",
        "\n",
        "        return scores\n",
        "\n",
        "    # Similarly a backward function\n",
        "    # we define 2 backward functions (as Loss = L_data + L_reg, grad(Loss) = grad(L1) + grad(L2))\n",
        "\n",
        "    def backward_Ldata(self, grad_from_loss, input_x):\n",
        "\n",
        "        # this function returns a matrix of the same size as the weights,\n",
        "        # where each element is the partial derivative of the loss w.r.t. the corresponding element of W\n",
        "\n",
        "        ## WRITE CODE HERE\n",
        "        grad_matrix = grad_from_loss @ input_x.T\n",
        "        return grad_matrix\n",
        "\n",
        "    def backward_Lreg(self):\n",
        "\n",
        "        # this function returns a matrix of the same size as the weights,\n",
        "        # where each element is the partial derivative of the regularization-term\n",
        "        # w.r.t. the corresponding element of W\n",
        "\n",
        "        ## WRITE CODE HERE\n",
        "        grad_matrix = 2 * self.Weights\n",
        "\n",
        "        return grad_matrix"
      ]
    },
    {
      "cell_type": "code",
      "execution_count": null,
      "metadata": {
        "id": "BM3EhmY0pdYZ"
      },
      "outputs": [],
      "source": [
        "# Implement the Softmax loss function\n",
        "def loss_function(input_y,scores):\n",
        "    ## WRITE CODE HERE\n",
        "    max_scores = np.max(scores, axis=0, keepdims=True)  # Prevent overflow\n",
        "    logsumexp = np.log(np.sum(np.exp(scores - max_scores), axis=0)) + max_scores\n",
        "    loss = (-np.trace(input_y @ scores) + np.sum(logsumexp)) / len(input_y)\n",
        "    return loss\n",
        "\n",
        "# Backward pass for the negative log loss\n",
        "def loss_backward(scores, input_y):\n",
        "    # This part deals with the gradient of the loss w.r.t the output of network\n",
        "    # for example, in case of softmax loss(-log(q_c)), this part gives grad(loss) w.r.t. q_c\n",
        "    # pass this to backward_ldata\n",
        "\n",
        "    ## WRITE CODE HERE\n",
        "    grad_from_loss = np.zeros((len(scores)))\n",
        "    for i in range(len(input_y)):\n",
        "      max_score = np.max(scores[:, i])\n",
        "      exp_scores = np.exp(scores[:, i] - max_score)\n",
        "      softmax = exp_scores / np.sum(exp_scores)\n",
        "      data = data = -(input_y.T[:, i] - softmax)\n",
        "      grad_from_loss = np.vstack((grad_from_loss, data))\n",
        "    grad_from_loss = grad_from_loss[1:].T / len(input_y)\n",
        "    return grad_from_loss\n"
      ]
    },
    {
      "cell_type": "markdown",
      "metadata": {
        "id": "Pr7vOEaBK8ac"
      },
      "source": [
        "### Create utility functions for calculating training and validation accuracy"
      ]
    },
    {
      "cell_type": "code",
      "execution_count": null,
      "metadata": {
        "id": "EnprjvpwK8ac"
      },
      "outputs": [],
      "source": [
        "# WRITE CODE HERE\n",
        "(x_train, y_train), (x_test, y_test) = loadData()\n",
        "x_test = x_test.reshape(len(x_test), -1).T\n",
        "x_train, y_train, x_val, y_val = splitDateTrainVal(x_train, y_train)"
      ]
    },
    {
      "cell_type": "code",
      "execution_count": null,
      "metadata": {
        "id": "AhpaaUvJpdZJ",
        "colab": {
          "base_uri": "https://localhost:8080/"
        },
        "outputId": "5d644699-02bf-4ce5-ba35-270ea6281d9a"
      },
      "outputs": [
        {
          "output_type": "stream",
          "name": "stdout",
          "text": [
            "Start of Model Train\n"
          ]
        }
      ],
      "source": [
        "# Finally the trainer:\n",
        "# Make an instance of Single_layer_classifier\n",
        "# Train for t epochs:\n",
        "###  Train on the train-set obtained from train-validation split\n",
        "###  Use the mini-batch generator to get each mini-batch\n",
        "\n",
        "print(\"Start of Model Train\")\n",
        "def train_model(x_train, y_train, number_of_epochs=100, learning_rate = 1e-4, batch_size = 128):\n",
        "  slcObj = Single_layer_classifier(784, 10)\n",
        "  lossList = []\n",
        "  accuracyList = []\n",
        "  for i in range(number_of_epochs):\n",
        "    minibatch = get_minibatch(x_train, y_train, batch_size)\n",
        "    for iter_num,(mini_input_x , mini_input_y) in enumerate(minibatch):\n",
        "        ## Write code here for each iteration of training\n",
        "\n",
        "        # Forward pass\n",
        "        scores = slcObj.forward(mini_input_x)\n",
        "        loss = loss_function(mini_input_y, scores)\n",
        "        lossList.append(loss)\n",
        "\n",
        "        predicted_classes = np.argmax(scores, axis=0)\n",
        "        true_classes = np.argmax(mini_input_y, axis=1)\n",
        "        accuracy = np.mean(predicted_classes == true_classes) * 100\n",
        "        accuracyList.append(accuracy)\n",
        "        # Backward pass\n",
        "        gradFromLoss = loss_backward(scores, mini_input_y)\n",
        "        lossGradient = slcObj.backward_Ldata(gradFromLoss, mini_input_x)\n",
        "        regLossGradient = slcObj.backward_Lreg()\n",
        "        grad = lossGradient + 1e-4 * regLossGradient\n",
        "\n",
        "        # Update weights\n",
        "        slcObj.Weights -= learning_rate * grad\n",
        "\n",
        "        # Log the training loss value and training accuracy\n",
        "  # print(f\"Iteration Number: {i} & loss: {loss} \")\n",
        "  return slcObj, lossList, accuracyList"
      ]
    },
    {
      "cell_type": "code",
      "source": [
        "slcObj, lossList, accuracyList = train_model(x_train, y_train, 40, 5e-3)"
      ],
      "metadata": {
        "id": "oei5wk33i8sg"
      },
      "execution_count": null,
      "outputs": []
    },
    {
      "cell_type": "code",
      "source": [
        "def find_accuracy(slcObj, x, y):\n",
        "  predictions = slcObj.forward(x)\n",
        "  predicted_classes = np.argmax(predictions, axis=0)\n",
        "  true_classes = np.argmax(y, axis=1)\n",
        "  accuracy = np.mean(predicted_classes == true_classes) * 100\n",
        "  return accuracy"
      ],
      "metadata": {
        "id": "KE4idYKEhMkt"
      },
      "execution_count": null,
      "outputs": []
    },
    {
      "cell_type": "code",
      "source": [
        "find_accuracy(slcObj, x_train, y_train)"
      ],
      "metadata": {
        "colab": {
          "base_uri": "https://localhost:8080/"
        },
        "id": "dMYrh5RjkWKG",
        "outputId": "7e971985-e65d-45f7-d1cc-f8e698eda395"
      },
      "execution_count": null,
      "outputs": [
        {
          "output_type": "execute_result",
          "data": {
            "text/plain": [
              "89.83958333333332"
            ]
          },
          "metadata": {},
          "execution_count": 335
        }
      ]
    },
    {
      "cell_type": "markdown",
      "metadata": {
        "id": "KPiWEu30K8ad"
      },
      "source": [
        "### Plot the training loss and training accuracy plot"
      ]
    },
    {
      "cell_type": "code",
      "execution_count": null,
      "metadata": {
        "id": "MbLq_R_uK8ad",
        "colab": {
          "base_uri": "https://localhost:8080/",
          "height": 449
        },
        "outputId": "53aac3d9-a1fb-47d8-c93d-0b10945487d4"
      },
      "outputs": [
        {
          "output_type": "display_data",
          "data": {
            "text/plain": [
              "<Figure size 640x480 with 1 Axes>"
            ],
            "image/png": "[encoded data removed]"
          },
          "metadata": {}
        }
      ],
      "source": [
        "# WRITE CODE HERE\n",
        "#Plot the training Loss\n",
        "plt.plot(lossList)\n",
        "plt.xlabel(\"Number of Iterations\")\n",
        "plt.ylabel(\"Training Loss\")\n",
        "plt.show()"
      ]
    },
    {
      "cell_type": "code",
      "source": [
        "#Plot the training accuracies\n",
        "plt.plot(accuracyList)\n",
        "plt.xlabel(\"Number of Iterations\")\n",
        "plt.ylabel(\"Training Accuracy\")\n",
        "plt.show()"
      ],
      "metadata": {
        "colab": {
          "base_uri": "https://localhost:8080/",
          "height": 449
        },
        "id": "4aeehdlsUgPb",
        "outputId": "d4e691a6-bf49-4eaa-a2d3-d8da450c8680"
      },
      "execution_count": null,
      "outputs": [
        {
          "output_type": "display_data",
          "data": {
            "text/plain": [
              "<Figure size 640x480 with 1 Axes>"
            ],
            "image/png": "[encoded data removed]"
          },
          "metadata": {}
        }
      ]
    },
    {
      "cell_type": "code",
      "metadata": {
        "id": "RH22BqefpdZ4"
      },
      "source": [
        "### Find the accuracy on the validation set"
      ],
      "execution_count": null,
      "outputs": []
    },
    {
      "cell_type": "code",
      "execution_count": null,
      "metadata": {
        "id": "lfoIwq25K8ae",
        "colab": {
          "base_uri": "https://localhost:8080/"
        },
        "outputId": "240d5030-fb9d-4de0-d89f-21b16bd8cf37"
      },
      "outputs": [
        {
          "output_type": "stream",
          "name": "stdout",
          "text": [
            "Accuracy of the model on the validation dataset is : 90.60000000000001\n"
          ]
        }
      ],
      "source": [
        "# WRITE CODE HERE\n",
        "#Calculating the accuracy on the validation set.\n",
        "accuracy_val = find_accuracy(slcObj, x_val, y_val)\n",
        "print(f\"Accuracy of the model on the validation dataset is : {accuracy_val}\")"
      ]
    },
    {
      "cell_type": "code",
      "execution_count": null,
      "metadata": {
        "id": "7wMDvvA4pdbN",
        "colab": {
          "base_uri": "https://localhost:8080/"
        },
        "collapsed": true,
        "outputId": "8741e59b-4531-4c55-f20a-4c25442e7f4e"
      },
      "outputs": [
        {
          "output_type": "stream",
          "name": "stdout",
          "text": [
            "Updated Parameters: Number of Epochs: 10, Learning Rate: 0.001, Accuracy: 84.29166666666667\n",
            "Updated Parameters: Number of Epochs: 10, Learning Rate: 0.003, Accuracy: 87.31666666666666\n",
            "Updated Parameters: Number of Epochs: 10, Learning Rate: 0.007, Accuracy: 89.06666666666668\n",
            "Updated Parameters: Number of Epochs: 10, Learning Rate: 0.009, Accuracy: 89.46666666666667\n",
            "Updated Parameters: Number of Epochs: 20, Learning Rate: 0.007, Accuracy: 90.17500000000001\n",
            "Updated Parameters: Number of Epochs: 20, Learning Rate: 0.009, Accuracy: 90.44166666666666\n"
          ]
        }
      ],
      "source": [
        "# The next step is to find the optimal value for lambda, number of epochs, learning rate and batch size.\n",
        "# CHOSE ANY TWO from the above mentioned to tune.\n",
        "# Create plot and table to show the effect of the hparams.\n",
        "number_of_epochs = [10, 20]\n",
        "learning_rates = [1e-3, 3e-3, 7e-3, 9e-3]\n",
        "best_accuracy = 0\n",
        "best_number_of_epochs = None\n",
        "best_learning_rate = None\n",
        "for j in range (len(number_of_epochs)):\n",
        "  for k in range (len(learning_rates)):\n",
        "      slcObj, lossList, accuracyList = train_model(x_train, y_train, number_of_epochs[j], learning_rates[k])\n",
        "      accuracy = find_accuracy(slcObj, x_val, y_val)\n",
        "      if accuracy > best_accuracy:\n",
        "        best_accuracy = accuracy\n",
        "        best_number_of_epochs = number_of_epochs[j]\n",
        "        best_learning_rate = learning_rates[k]\n",
        "        print(f\"Updated Parameters: Number of Epochs: {number_of_epochs[j]}, Learning Rate: {learning_rates[k]}, Accuracy: {accuracy}\")"
      ]
    },
    {
      "cell_type": "code",
      "source": [
        "best_accuracy, best_number_of_epochs, best_learning_rate"
      ],
      "metadata": {
        "colab": {
          "base_uri": "https://localhost:8080/"
        },
        "id": "vEyLqkICGI6J",
        "outputId": "812d8de4-375d-4f67-ad81-f423ebce4fe8"
      },
      "execution_count": null,
      "outputs": [
        {
          "output_type": "execute_result",
          "data": {
            "text/plain": [
              "(90.44166666666666, 20, 0.009)"
            ]
          },
          "metadata": {},
          "execution_count": 342
        }
      ]
    },
    {
      "cell_type": "code",
      "metadata": {
        "id": "BDrq0GfKpdb8"
      },
      "source": [
        "### Report final performance on MNIST test set"
      ],
      "execution_count": null,
      "outputs": []
    },
    {
      "cell_type": "code",
      "execution_count": null,
      "metadata": {
        "id": "4OtoaPuLK8af"
      },
      "outputs": [],
      "source": [
        "# WRITE CODE HERE\n",
        "#Calculating the accuracy on test Set\n",
        "accuracy_test = find_accuracy(slcObj, x_test, y_test)"
      ]
    },
    {
      "cell_type": "code",
      "source": [
        "print(f\"Accuracy of the model on the test dataset is : {accuracy_test}\")"
      ],
      "metadata": {
        "colab": {
          "base_uri": "https://localhost:8080/"
        },
        "id": "R4cm7MtPvmNE",
        "outputId": "d025dc7d-2893-4ac4-81e4-ad0580cd873e"
      },
      "execution_count": null,
      "outputs": [
        {
          "output_type": "stream",
          "name": "stdout",
          "text": [
            "Accuracy of the model on the test dataset is : 90.42999999999999\n"
          ]
        }
      ]
    },
    {
      "cell_type": "markdown",
      "metadata": {
        "id": "wkv8pnhoK8af"
      },
      "source": [
        "### Find the best performing class and the worst performing class"
      ]
    },
    {
      "cell_type": "code",
      "execution_count": null,
      "metadata": {
        "id": "A6swbdpwK8af",
        "colab": {
          "base_uri": "https://localhost:8080/"
        },
        "outputId": "ff1d4b69-c60c-49c2-a3e2-3520028db2cb"
      },
      "outputs": [
        {
          "output_type": "stream",
          "name": "stdout",
          "text": [
            "Best Performing Class: Class 0.0\n",
            "Worst Performing Class: Class 1.0\n"
          ]
        }
      ],
      "source": [
        "# WRITE CODE HERE\n",
        "#Find the best performing class and the worst performing class in terms of accuracy\n",
        "def find_best_worst_class(slcObj, x_test, y_test, class_names = None):\n",
        "    # Convert One-Hot Encoding to Class Indices\n",
        "    predictions = slcObj.forward(x_test)\n",
        "    predicted_labels = np.argmax(predictions, axis=0)\n",
        "    num_classes = np.max(predicted_labels) + 1  # Get number of unique classes\n",
        "    pred_labels = np.eye(num_classes)[predicted_labels]\n",
        "    true_labels = y_test\n",
        "    # Find unique classes\n",
        "    unique_classes = np.unique(y_test)\n",
        "    class_accuracies = {}\n",
        "\n",
        "    for c in unique_classes:\n",
        "        total = np.sum(true_labels == c)  # Total occurrences of class c\n",
        "        correct = np.sum((true_labels == c) & (pred_labels == c))  # Correct predictions\n",
        "        accuracy = correct / total if total > 0 else 0\n",
        "        class_name = class_names[c] if class_names else f\"Class {c}\"\n",
        "        class_accuracies[class_name] = accuracy\n",
        "\n",
        "    # Find best and worst performing classes\n",
        "    best_class = max(class_accuracies, key=class_accuracies.get)\n",
        "    worst_class = min(class_accuracies, key=class_accuracies.get)\n",
        "\n",
        "    return best_class, worst_class\n",
        "\n",
        "\n",
        "best_class, worst_class = find_best_worst_class(slcObj, x_test, y_test)\n",
        "\n",
        "print(f\"Best Performing Class: {best_class}\")\n",
        "print(f\"Worst Performing Class: {worst_class}\")"
      ]
    },
    {
      "cell_type": "markdown",
      "metadata": {
        "id": "MUrjzFWLK8af"
      },
      "source": [
        "# Training a Linear Classifier on MNIST from scikit-learn\n",
        "\n",
        "In this section you have to train a linear classifier from the scikit-learn library and compare its results against your implementation.\n",
        "(https://scikit-learn.org/stable/modules/generated/sklearn.linear_model.LinearRegression.html)"
      ]
    },
    {
      "cell_type": "code",
      "execution_count": null,
      "metadata": {
        "id": "fK2PuTwVK8af",
        "colab": {
          "base_uri": "https://localhost:8080/",
          "height": 80
        },
        "outputId": "ec9b7fa0-94d2-4ff7-9060-1816558343fb"
      },
      "outputs": [
        {
          "output_type": "execute_result",
          "data": {
            "text/plain": [
              "LogisticRegression(max_iter=1000)"
            ],
            "text/html": [
              "<style>#sk-container-id-1 {\n",
              "  /* Definition of color scheme common for light and dark mode */\n",
              "  --sklearn-color-text: #000;\n",
              "  --sklearn-color-text-muted: #666;\n",
              "  --sklearn-color-line: gray;\n",
              "  /* Definition of color scheme for unfitted estimators */\n",
              "  --sklearn-color-unfitted-level-0: #fff5e6;\n",
              "  --sklearn-color-unfitted-level-1: #f6e4d2;\n",
              "  --sklearn-color-unfitted-level-2: #ffe0b3;\n",
              "  --sklearn-color-unfitted-level-3: chocolate;\n",
              "  /* Definition of color scheme for fitted estimators */\n",
              "  --sklearn-color-fitted-level-0: #f0f8ff;\n",
              "  --sklearn-color-fitted-level-1: #d4ebff;\n",
              "  --sklearn-color-fitted-level-2: #b3dbfd;\n",
              "  --sklearn-color-fitted-level-3: cornflowerblue;\n",
              "\n",
              "  /* Specific color for light theme */\n",
              "  --sklearn-color-text-on-default-background: var(--sg-text-color, var(--theme-code-foreground, var(--jp-content-font-color1, black)));\n",
              "  --sklearn-color-background: var(--sg-background-color, var(--theme-background, var(--jp-layout-color0, white)));\n",
              "  --sklearn-color-border-box: var(--sg-text-color, var(--theme-code-foreground, var(--jp-content-font-color1, black)));\n",
              "  --sklearn-color-icon: #696969;\n",
              "\n",
              "  @media (prefers-color-scheme: dark) {\n",
              "    /* Redefinition of color scheme for dark theme */\n",
              "    --sklearn-color-text-on-default-background: var(--sg-text-color, var(--theme-code-foreground, var(--jp-content-font-color1, white)));\n",
              "    --sklearn-color-background: var(--sg-background-color, var(--theme-background, var(--jp-layout-color0, #111)));\n",
              "    --sklearn-color-border-box: var(--sg-text-color, var(--theme-code-foreground, var(--jp-content-font-color1, white)));\n",
              "    --sklearn-color-icon: #878787;\n",
              "  }\n",
              "}\n",
              "\n",
              "#sk-container-id-1 {\n",
              "  color: var(--sklearn-color-text);\n",
              "}\n",
              "\n",
              "#sk-container-id-1 pre {\n",
              "  padding: 0;\n",
              "}\n",
              "\n",
              "#sk-container-id-1 input.sk-hidden--visually {\n",
              "  border: 0;\n",
              "  clip: rect(1px 1px 1px 1px);\n",
              "  clip: rect(1px, 1px, 1px, 1px);\n",
              "  height: 1px;\n",
              "  margin: -1px;\n",
              "  overflow: hidden;\n",
              "  padding: 0;\n",
              "  position: absolute;\n",
              "  width: 1px;\n",
              "}\n",
              "\n",
              "#sk-container-id-1 div.sk-dashed-wrapped {\n",
              "  border: 1px dashed var(--sklearn-color-line);\n",
              "  margin: 0 0.4em 0.5em 0.4em;\n",
              "  box-sizing: border-box;\n",
              "  padding-bottom: 0.4em;\n",
              "  background-color: var(--sklearn-color-background);\n",
              "}\n",
              "\n",
              "#sk-container-id-1 div.sk-container {\n",
              "  /* jupyter's `normalize.less` sets `[hidden] { display: none; }`\n",
              "     but bootstrap.min.css set `[hidden] { display: none !important; }`\n",
              "     so we also need the `!important` here to be able to override the\n",
              "     default hidden behavior on the sphinx rendered scikit-learn.org.\n",
              "     See: https://github.com/scikit-learn/scikit-learn/issues/21755 */\n",
              "  display: inline-block !important;\n",
              "  position: relative;\n",
              "}\n",
              "\n",
              "#sk-container-id-1 div.sk-text-repr-fallback {\n",
              "  display: none;\n",
              "}\n",
              "\n",
              "div.sk-parallel-item,\n",
              "div.sk-serial,\n",
              "div.sk-item {\n",
              "  /* draw centered vertical line to link estimators */\n",
              "  background-image: linear-gradient(var(--sklearn-color-text-on-default-background), var(--sklearn-color-text-on-default-background));\n",
              "  background-size: 2px 100%;\n",
              "  background-repeat: no-repeat;\n",
              "  background-position: center center;\n",
              "}\n",
              "\n",
              "/* Parallel-specific style estimator block */\n",
              "\n",
              "#sk-container-id-1 div.sk-parallel-item::after {\n",
              "  content: \"\";\n",
              "  width: 100%;\n",
              "  border-bottom: 2px solid var(--sklearn-color-text-on-default-background);\n",
              "  flex-grow: 1;\n",
              "}\n",
              "\n",
              "#sk-container-id-1 div.sk-parallel {\n",
              "  display: flex;\n",
              "  align-items: stretch;\n",
              "  justify-content: center;\n",
              "  background-color: var(--sklearn-color-background);\n",
              "  position: relative;\n",
              "}\n",
              "\n",
              "#sk-container-id-1 div.sk-parallel-item {\n",
              "  display: flex;\n",
              "  flex-direction: column;\n",
              "}\n",
              "\n",
              "#sk-container-id-1 div.sk-parallel-item:first-child::after {\n",
              "  align-self: flex-end;\n",
              "  width: 50%;\n",
              "}\n",
              "\n",
              "#sk-container-id-1 div.sk-parallel-item:last-child::after {\n",
              "  align-self: flex-start;\n",
              "  width: 50%;\n",
              "}\n",
              "\n",
              "#sk-container-id-1 div.sk-parallel-item:only-child::after {\n",
              "  width: 0;\n",
              "}\n",
              "\n",
              "/* Serial-specific style estimator block */\n",
              "\n",
              "#sk-container-id-1 div.sk-serial {\n",
              "  display: flex;\n",
              "  flex-direction: column;\n",
              "  align-items: center;\n",
              "  background-color: var(--sklearn-color-background);\n",
              "  padding-right: 1em;\n",
              "  padding-left: 1em;\n",
              "}\n",
              "\n",
              "\n",
              "/* Toggleable style: style used for estimator/Pipeline/ColumnTransformer box that is\n",
              "clickable and can be expanded/collapsed.\n",
              "- Pipeline and ColumnTransformer use this feature and define the default style\n",
              "- Estimators will overwrite some part of the style using the `sk-estimator` class\n",
              "*/\n",
              "\n",
              "/* Pipeline and ColumnTransformer style (default) */\n",
              "\n",
              "#sk-container-id-1 div.sk-toggleable {\n",
              "  /* Default theme specific background. It is overwritten whether we have a\n",
              "  specific estimator or a Pipeline/ColumnTransformer */\n",
              "  background-color: var(--sklearn-color-background);\n",
              "}\n",
              "\n",
              "/* Toggleable label */\n",
              "#sk-container-id-1 label.sk-toggleable__label {\n",
              "  cursor: pointer;\n",
              "  display: flex;\n",
              "  width: 100%;\n",
              "  margin-bottom: 0;\n",
              "  padding: 0.5em;\n",
              "  box-sizing: border-box;\n",
              "  text-align: center;\n",
              "  align-items: start;\n",
              "  justify-content: space-between;\n",
              "  gap: 0.5em;\n",
              "}\n",
              "\n",
              "#sk-container-id-1 label.sk-toggleable__label .caption {\n",
              "  font-size: 0.6rem;\n",
              "  font-weight: lighter;\n",
              "  color: var(--sklearn-color-text-muted);\n",
              "}\n",
              "\n",
              "#sk-container-id-1 label.sk-toggleable__label-arrow:before {\n",
              "  /* Arrow on the left of the label */\n",
              "  content: \"▸\";\n",
              "  float: left;\n",
              "  margin-right: 0.25em;\n",
              "  color: var(--sklearn-color-icon);\n",
              "}\n",
              "\n",
              "#sk-container-id-1 label.sk-toggleable__label-arrow:hover:before {\n",
              "  color: var(--sklearn-color-text);\n",
              "}\n",
              "\n",
              "/* Toggleable content - dropdown */\n",
              "\n",
              "#sk-container-id-1 div.sk-toggleable__content {\n",
              "  max-height: 0;\n",
              "  max-width: 0;\n",
              "  overflow: hidden;\n",
              "  text-align: left;\n",
              "  /* unfitted */\n",
              "  background-color: var(--sklearn-color-unfitted-level-0);\n",
              "}\n",
              "\n",
              "#sk-container-id-1 div.sk-toggleable__content.fitted {\n",
              "  /* fitted */\n",
              "  background-color: var(--sklearn-color-fitted-level-0);\n",
              "}\n",
              "\n",
              "#sk-container-id-1 div.sk-toggleable__content pre {\n",
              "  margin: 0.2em;\n",
              "  border-radius: 0.25em;\n",
              "  color: var(--sklearn-color-text);\n",
              "  /* unfitted */\n",
              "  background-color: var(--sklearn-color-unfitted-level-0);\n",
              "}\n",
              "\n",
              "#sk-container-id-1 div.sk-toggleable__content.fitted pre {\n",
              "  /* unfitted */\n",
              "  background-color: var(--sklearn-color-fitted-level-0);\n",
              "}\n",
              "\n",
              "#sk-container-id-1 input.sk-toggleable__control:checked~div.sk-toggleable__content {\n",
              "  /* Expand drop-down */\n",
              "  max-height: 200px;\n",
              "  max-width: 100%;\n",
              "  overflow: auto;\n",
              "}\n",
              "\n",
              "#sk-container-id-1 input.sk-toggleable__control:checked~label.sk-toggleable__label-arrow:before {\n",
              "  content: \"▾\";\n",
              "}\n",
              "\n",
              "/* Pipeline/ColumnTransformer-specific style */\n",
              "\n",
              "#sk-container-id-1 div.sk-label input.sk-toggleable__control:checked~label.sk-toggleable__label {\n",
              "  color: var(--sklearn-color-text);\n",
              "  background-color: var(--sklearn-color-unfitted-level-2);\n",
              "}\n",
              "\n",
              "#sk-container-id-1 div.sk-label.fitted input.sk-toggleable__control:checked~label.sk-toggleable__label {\n",
              "  background-color: var(--sklearn-color-fitted-level-2);\n",
              "}\n",
              "\n",
              "/* Estimator-specific style */\n",
              "\n",
              "/* Colorize estimator box */\n",
              "#sk-container-id-1 div.sk-estimator input.sk-toggleable__control:checked~label.sk-toggleable__label {\n",
              "  /* unfitted */\n",
              "  background-color: var(--sklearn-color-unfitted-level-2);\n",
              "}\n",
              "\n",
              "#sk-container-id-1 div.sk-estimator.fitted input.sk-toggleable__control:checked~label.sk-toggleable__label {\n",
              "  /* fitted */\n",
              "  background-color: var(--sklearn-color-fitted-level-2);\n",
              "}\n",
              "\n",
              "#sk-container-id-1 div.sk-label label.sk-toggleable__label,\n",
              "#sk-container-id-1 div.sk-label label {\n",
              "  /* The background is the default theme color */\n",
              "  color: var(--sklearn-color-text-on-default-background);\n",
              "}\n",
              "\n",
              "/* On hover, darken the color of the background */\n",
              "#sk-container-id-1 div.sk-label:hover label.sk-toggleable__label {\n",
              "  color: var(--sklearn-color-text);\n",
              "  background-color: var(--sklearn-color-unfitted-level-2);\n",
              "}\n",
              "\n",
              "/* Label box, darken color on hover, fitted */\n",
              "#sk-container-id-1 div.sk-label.fitted:hover label.sk-toggleable__label.fitted {\n",
              "  color: var(--sklearn-color-text);\n",
              "  background-color: var(--sklearn-color-fitted-level-2);\n",
              "}\n",
              "\n",
              "/* Estimator label */\n",
              "\n",
              "#sk-container-id-1 div.sk-label label {\n",
              "  font-family: monospace;\n",
              "  font-weight: bold;\n",
              "  display: inline-block;\n",
              "  line-height: 1.2em;\n",
              "}\n",
              "\n",
              "#sk-container-id-1 div.sk-label-container {\n",
              "  text-align: center;\n",
              "}\n",
              "\n",
              "/* Estimator-specific */\n",
              "#sk-container-id-1 div.sk-estimator {\n",
              "  font-family: monospace;\n",
              "  border: 1px dotted var(--sklearn-color-border-box);\n",
              "  border-radius: 0.25em;\n",
              "  box-sizing: border-box;\n",
              "  margin-bottom: 0.5em;\n",
              "  /* unfitted */\n",
              "  background-color: var(--sklearn-color-unfitted-level-0);\n",
              "}\n",
              "\n",
              "#sk-container-id-1 div.sk-estimator.fitted {\n",
              "  /* fitted */\n",
              "  background-color: var(--sklearn-color-fitted-level-0);\n",
              "}\n",
              "\n",
              "/* on hover */\n",
              "#sk-container-id-1 div.sk-estimator:hover {\n",
              "  /* unfitted */\n",
              "  background-color: var(--sklearn-color-unfitted-level-2);\n",
              "}\n",
              "\n",
              "#sk-container-id-1 div.sk-estimator.fitted:hover {\n",
              "  /* fitted */\n",
              "  background-color: var(--sklearn-color-fitted-level-2);\n",
              "}\n",
              "\n",
              "/* Specification for estimator info (e.g. \"i\" and \"?\") */\n",
              "\n",
              "/* Common style for \"i\" and \"?\" */\n",
              "\n",
              ".sk-estimator-doc-link,\n",
              "a:link.sk-estimator-doc-link,\n",
              "a:visited.sk-estimator-doc-link {\n",
              "  float: right;\n",
              "  font-size: smaller;\n",
              "  line-height: 1em;\n",
              "  font-family: monospace;\n",
              "  background-color: var(--sklearn-color-background);\n",
              "  border-radius: 1em;\n",
              "  height: 1em;\n",
              "  width: 1em;\n",
              "  text-decoration: none !important;\n",
              "  margin-left: 0.5em;\n",
              "  text-align: center;\n",
              "  /* unfitted */\n",
              "  border: var(--sklearn-color-unfitted-level-1) 1pt solid;\n",
              "  color: var(--sklearn-color-unfitted-level-1);\n",
              "}\n",
              "\n",
              ".sk-estimator-doc-link.fitted,\n",
              "a:link.sk-estimator-doc-link.fitted,\n",
              "a:visited.sk-estimator-doc-link.fitted {\n",
              "  /* fitted */\n",
              "  border: var(--sklearn-color-fitted-level-1) 1pt solid;\n",
              "  color: var(--sklearn-color-fitted-level-1);\n",
              "}\n",
              "\n",
              "/* On hover */\n",
              "div.sk-estimator:hover .sk-estimator-doc-link:hover,\n",
              ".sk-estimator-doc-link:hover,\n",
              "div.sk-label-container:hover .sk-estimator-doc-link:hover,\n",
              ".sk-estimator-doc-link:hover {\n",
              "  /* unfitted */\n",
              "  background-color: var(--sklearn-color-unfitted-level-3);\n",
              "  color: var(--sklearn-color-background);\n",
              "  text-decoration: none;\n",
              "}\n",
              "\n",
              "div.sk-estimator.fitted:hover .sk-estimator-doc-link.fitted:hover,\n",
              ".sk-estimator-doc-link.fitted:hover,\n",
              "div.sk-label-container:hover .sk-estimator-doc-link.fitted:hover,\n",
              ".sk-estimator-doc-link.fitted:hover {\n",
              "  /* fitted */\n",
              "  background-color: var(--sklearn-color-fitted-level-3);\n",
              "  color: var(--sklearn-color-background);\n",
              "  text-decoration: none;\n",
              "}\n",
              "\n",
              "/* Span, style for the box shown on hovering the info icon */\n",
              ".sk-estimator-doc-link span {\n",
              "  display: none;\n",
              "  z-index: 9999;\n",
              "  position: relative;\n",
              "  font-weight: normal;\n",
              "  right: .2ex;\n",
              "  padding: .5ex;\n",
              "  margin: .5ex;\n",
              "  width: min-content;\n",
              "  min-width: 20ex;\n",
              "  max-width: 50ex;\n",
              "  color: var(--sklearn-color-text);\n",
              "  box-shadow: 2pt 2pt 4pt #999;\n",
              "  /* unfitted */\n",
              "  background: var(--sklearn-color-unfitted-level-0);\n",
              "  border: .5pt solid var(--sklearn-color-unfitted-level-3);\n",
              "}\n",
              "\n",
              ".sk-estimator-doc-link.fitted span {\n",
              "  /* fitted */\n",
              "  background: var(--sklearn-color-fitted-level-0);\n",
              "  border: var(--sklearn-color-fitted-level-3);\n",
              "}\n",
              "\n",
              ".sk-estimator-doc-link:hover span {\n",
              "  display: block;\n",
              "}\n",
              "\n",
              "/* \"?\"-specific style due to the `<a>` HTML tag */\n",
              "\n",
              "#sk-container-id-1 a.estimator_doc_link {\n",
              "  float: right;\n",
              "  font-size: 1rem;\n",
              "  line-height: 1em;\n",
              "  font-family: monospace;\n",
              "  background-color: var(--sklearn-color-background);\n",
              "  border-radius: 1rem;\n",
              "  height: 1rem;\n",
              "  width: 1rem;\n",
              "  text-decoration: none;\n",
              "  /* unfitted */\n",
              "  color: var(--sklearn-color-unfitted-level-1);\n",
              "  border: var(--sklearn-color-unfitted-level-1) 1pt solid;\n",
              "}\n",
              "\n",
              "#sk-container-id-1 a.estimator_doc_link.fitted {\n",
              "  /* fitted */\n",
              "  border: var(--sklearn-color-fitted-level-1) 1pt solid;\n",
              "  color: var(--sklearn-color-fitted-level-1);\n",
              "}\n",
              "\n",
              "/* On hover */\n",
              "#sk-container-id-1 a.estimator_doc_link:hover {\n",
              "  /* unfitted */\n",
              "  background-color: var(--sklearn-color-unfitted-level-3);\n",
              "  color: var(--sklearn-color-background);\n",
              "  text-decoration: none;\n",
              "}\n",
              "\n",
              "#sk-container-id-1 a.estimator_doc_link.fitted:hover {\n",
              "  /* fitted */\n",
              "  background-color: var(--sklearn-color-fitted-level-3);\n",
              "}\n",
              "</style><div id=\"sk-container-id-1\" class=\"sk-top-container\"><div class=\"sk-text-repr-fallback\"><pre>LogisticRegression(max_iter=1000)</pre><b>In a Jupyter environment, please rerun this cell to show the HTML representation or trust the notebook. <br />On GitHub, the HTML representation is unable to render, please try loading this page with nbviewer.org.</b></div><div class=\"sk-container\" hidden><div class=\"sk-item\"><div class=\"sk-estimator fitted sk-toggleable\"><input class=\"sk-toggleable__control sk-hidden--visually\" id=\"sk-estimator-id-1\" type=\"checkbox\" checked><label for=\"sk-estimator-id-1\" class=\"sk-toggleable__label fitted sk-toggleable__label-arrow\"><div><div>LogisticRegression</div></div><div><a class=\"sk-estimator-doc-link fitted\" rel=\"noreferrer\" target=\"_blank\" href=\"https://scikit-learn.org/1.6/modules/generated/sklearn.linear_model.LogisticRegression.html\">?<span>Documentation for LogisticRegression</span></a><span class=\"sk-estimator-doc-link fitted\">i<span>Fitted</span></span></div></label><div class=\"sk-toggleable__content fitted\"><pre>LogisticRegression(max_iter=1000)</pre></div> </div></div></div></div>"
            ]
          },
          "metadata": {},
          "execution_count": 347
        }
      ],
      "source": [
        "# WRITE CODE HERE\n",
        "#Train a linear classifier from the scikit-learn library\n",
        "import sklearn as sk\n",
        "from sklearn.linear_model import LogisticRegression\n",
        "from sklearn.metrics import accuracy_score\n",
        "\n",
        "logisticRegression = LogisticRegression(max_iter = 1000)\n",
        "y_train_1d = np.argmax(y_train, axis=1)\n",
        "logisticRegression.fit(x_train.T, y_train_1d)"
      ]
    },
    {
      "cell_type": "markdown",
      "metadata": {
        "id": "YOB3f3MWK8ag"
      },
      "source": [
        "### Compare the training and test accuracies for the your implementation and linear classifier from scikit-learn"
      ]
    },
    {
      "cell_type": "code",
      "execution_count": null,
      "metadata": {
        "id": "X6HmT0zyK8ag",
        "colab": {
          "base_uri": "https://localhost:8080/"
        },
        "outputId": "44b34263-dd8e-4992-9a42-c2ee3144a627"
      },
      "outputs": [
        {
          "output_type": "stream",
          "name": "stdout",
          "text": [
            "Accuracy of the model on the validation dataset is : 92.49000000000001\n"
          ]
        }
      ],
      "source": [
        "# WRITE CODE HERE\n",
        "predictions = logisticRegression.predict(x_test.T)\n",
        "y_test_1d = np.argmax(y_test, axis=1)\n",
        "accuracy = accuracy_score(y_test_1d, predictions)\n",
        "print(f\"Accuracy of the model on the validation dataset is : {accuracy*100}\")"
      ]
    },
    {
      "cell_type": "markdown",
      "metadata": {
        "id": "bXKl7ITUK8ag"
      },
      "source": [
        "### Any additional observations / comments?"
      ]
    },
    {
      "cell_type": "markdown",
      "source": [
        "We can see that the accuracy of the model is better than our implementation(40 epochs and 5e-3 learning rate as hyperparameters)"
      ],
      "metadata": {
        "id": "UYTwBCPdxyMV"
      }
    },
    {
      "cell_type": "markdown",
      "metadata": {
        "id": "udiEHOV3K8ag"
      },
      "source": [
        "## BONUS Question\n",
        "### Observe the effect on test set accuracy by changing the number of training samples.\n",
        "### Train on 10%, 20% and 50% training data and plot the percentage of training data v.s. the test accuracy.  "
      ]
    },
    {
      "cell_type": "code",
      "execution_count": null,
      "metadata": {
        "id": "BpTHeFOgK8ag",
        "colab": {
          "base_uri": "https://localhost:8080/"
        },
        "outputId": "95583092-1d92-4aae-d5e1-1e8ac5db35f9"
      },
      "outputs": [
        {
          "output_type": "stream",
          "name": "stdout",
          "text": [
            "Accuracy of the model on the 10.0 % train Data is 75.6 and on the test dataset is : 74.65\n",
            "Accuracy of the model on the 20.0 % train Data is 77.66666666666666 and on the test dataset is : 77.01\n",
            "Accuracy of the model on the 50.0 % train Data is 81.49333333333333 and on the test dataset is : 82.54\n"
          ]
        }
      ],
      "source": [
        "# WRITE CODE HERE\n",
        "train_pecentages = [0.1, 0.2, 0.5]\n",
        "accuracy_trainList = []\n",
        "accuracy_testList = []\n",
        "(x_train, y_train), (x_test, y_test) = loadData()\n",
        "x_test = x_test.reshape(len(x_test), -1).T\n",
        "for train_percentage in train_pecentages:\n",
        "  x_train_split, y_train_split, x_val_split, y_val_split  = splitDateTrainVal(x_train, y_train, train_percentage)\n",
        "\n",
        "  slcObj, lossList, accuracyLis = train_model(x_train_split, y_train_split)\n",
        "  accuracy_train = find_accuracy(slcObj, x_train_split, y_train_split)\n",
        "  accuracy_trainList.append(accuracy_train)\n",
        "\n",
        "  accuracy_test = find_accuracy(slcObj, x_test, y_test)\n",
        "  accuracy_testList.append(accuracy_test)\n",
        "  print(f\"Accuracy of the model on the {train_percentage * 100} % train Data is {accuracy_train} and on the test dataset is : {accuracy_test}\")"
      ]
    },
    {
      "cell_type": "markdown",
      "metadata": {
        "id": "sXFJTTnkpdcp"
      },
      "source": [
        "# Implementing Backpropagation\n",
        "\n",
        "Now that you have had some experience with single layer networks, we can proceed to more complex architectures. But first we need to completely understand and implement backpropagation.\n",
        "\n",
        "## Backpropagation:\n",
        "\n",
        "Simply put, a way of computing gradients of expressions through repeated application of chain rule. If\n",
        "$$\n",
        "L = f (g (h (\\textbf{x})))\n",
        "$$\n",
        "then, by the chain rule we have:\n",
        "$$\n",
        "\\frac{\\partial L}{\\partial \\textbf{x}} = \\frac{\\partial f}{\\partial g} \\cdot \\frac{\\partial g}{\\partial h} \\cdot \\frac{\\partial h}{\\partial \\textbf{x}}\n",
        "$$\n",
        "\n",
        "** Look into the class Lecture for more detail **\n",
        "\n"
      ]
    },
    {
      "cell_type": "markdown",
      "metadata": {
        "id": "UixM41Rppdcz"
      },
      "source": [
        "# Question 2 : Scalar Backpropagation\n",
        "\n",
        "Evaluate the gradient of the following function w.r.t. the input:\n",
        "\n",
        "$$ f(x,y,z) =  log(\\sigma(\\frac{cos(\\pi \\times x)+sin(\\pi \\times y/2)}{tanh(z^2)}))$$\n",
        "where $\\sigma$ is the sigmoid function. Find gradient for the following inputs:\n",
        "  * $(x,y,z)$ =  (2,4,1)\n",
        "  * $(x,y,z)$ =  (9,14,3)\n",
        "  * $(x,y,z)$ =  (128,42,666)\n",
        "  * $(x,y,z)$ =  (52,14,28)\n",
        "\n",
        "      "
      ]
    },
    {
      "cell_type": "code",
      "source": [
        "class Cos():\n",
        "    def forward(self, x):\n",
        "        self.x = x\n",
        "        return np.cos(x)\n",
        "\n",
        "    def backward(self, grad_out):\n",
        "        return -grad_out * np.sin(self.x)\n",
        "\n",
        "class Sin():\n",
        "    def forward(self, x):\n",
        "        self.x = x\n",
        "        return np.sin(x)\n",
        "\n",
        "    def backward(self, grad_out):\n",
        "        return grad_out * np.cos(self.x)\n",
        "\n",
        "class Tanh():\n",
        "    def forward(self, x):\n",
        "        self.x = x\n",
        "        self.tanh_x = np.tanh(x)\n",
        "        return self.tanh_x\n",
        "\n",
        "    def backward(self, grad_out):\n",
        "        return grad_out * (1 - self.tanh_x ** 2)\n",
        "\n",
        "class Square():\n",
        "    def forward(self, x):\n",
        "        self.x = x\n",
        "        return x ** 2\n",
        "\n",
        "    def backward(self, grad_out):\n",
        "        return grad_out * 2 * self.x\n",
        "\n",
        "class Addition():\n",
        "    def forward(self, a, b):\n",
        "        self.a, self.b = a, b\n",
        "        return a + b\n",
        "\n",
        "    def backward(self, grad_out):\n",
        "        return grad_out, grad_out  # Derivative of addition is 1 w.r.t. both inputs\n",
        "\n",
        "class Division():\n",
        "    def forward(self, a, b):\n",
        "        self.a, self.b = a, b\n",
        "        return a / b\n",
        "\n",
        "    def backward(self, grad_out):\n",
        "        return grad_out / self.b, -grad_out * self.a / (self.b ** 2)\n",
        "\n",
        "class Log():\n",
        "    def forward(self, x):\n",
        "        self.x = x\n",
        "        return np.log(x)\n",
        "\n",
        "    def backward(self, grad_out):\n",
        "        return grad_out / self.x\n",
        "\n"
      ],
      "metadata": {
        "id": "pq6Ddx_CbVRV"
      },
      "execution_count": null,
      "outputs": []
    },
    {
      "cell_type": "code",
      "execution_count": null,
      "metadata": {
        "id": "Uu9zd5PLpdc_"
      },
      "outputs": [],
      "source": [
        "# To solve this problem, construct the computational graph\n",
        "# Write a class with forward and backward functions, for each node if you like\n",
        "# For eg:\n",
        "\n",
        "class Sigmoid():\n",
        "    def forward(self, x):\n",
        "        self.x = x\n",
        "        self.sigmoid_x = 1 / (1 + np.exp(-x))\n",
        "        return self.sigmoid_x\n",
        "\n",
        "    # save values useful for backpropagation\n",
        "    def backward(self, grad_out):\n",
        "        return grad_out * self.sigmoid_x * (1 - self.sigmoid_x)\n",
        "\n",
        "\n",
        "# CAUTION: Carefully treat the input and output dimension variation. At worst, handle them with if statements."
      ]
    },
    {
      "cell_type": "code",
      "execution_count": null,
      "metadata": {
        "id": "KyqeWPF0pddy"
      },
      "outputs": [],
      "source": [
        "# Now write the class func\n",
        "# which constructs the graph (all operators), forward and backward functions.\n",
        "\n",
        "class Func():\n",
        "    def __init__(self):\n",
        "      # construct the graph here\n",
        "      # assign the instances of function modules to self.var\n",
        "      self.cos = Cos()\n",
        "      self.sin = Sin()\n",
        "      self.square = Square()\n",
        "      self.tanh = Tanh()\n",
        "      self.add = Addition()\n",
        "      self.div = Division()\n",
        "      self.sigmoid = Sigmoid()\n",
        "      self.log = Log()\n",
        "\n",
        "    def forward(self,x,y,z):\n",
        "      # Using the graph element's forward functions, get the output.\n",
        "      self.x_pi = np.pi * x\n",
        "      self.y_pi_half = np.pi * y / 2\n",
        "      self.cos_x = self.cos.forward(self.x_pi)\n",
        "      self.sin_y = self.sin.forward(self.y_pi_half)\n",
        "      self.sum_xy = self.add.forward(self.cos_x, self.sin_y)\n",
        "\n",
        "      self.z_sq = self.square.forward(z)\n",
        "      self.tanh_z_sq = self.tanh.forward(self.z_sq)\n",
        "      self.div_xy_tanh = self.div.forward(self.sum_xy, self.tanh_z_sq)\n",
        "\n",
        "      self.sigmoid_out = self.sigmoid.forward(self.div_xy_tanh)\n",
        "      self.output = self.log.forward(self.sigmoid_out)\n",
        "\n",
        "      return self.output\n",
        "\n",
        "    def backward(self, output):\n",
        "      # Use the saved outputs of each module, and backward() function calls\n",
        "      grad_log = self.log.backward(1)  # df/dlog_output\n",
        "      grad_sigmoid = self.sigmoid.backward(grad_log)  # df/dsigmoid_output\n",
        "      grad_div_xy_tanh, grad_tanh_z_sq = self.div.backward(grad_sigmoid)\n",
        "\n",
        "      grad_sum_xy, grad_tanh = self.add.backward(grad_div_xy_tanh)\n",
        "\n",
        "      grad_cos_x = self.cos.backward(grad_sum_xy)\n",
        "      grad_sin_y = self.sin.backward(grad_sum_xy)\n",
        "\n",
        "      grad_x = grad_cos_x * np.pi\n",
        "      grad_y = grad_sin_y * (np.pi / 2)\n",
        "\n",
        "      grad_z_sq = self.tanh.backward(grad_tanh)\n",
        "      grad_z = self.square.backward(grad_z_sq)\n",
        "\n",
        "      return [grad_x, grad_y, grad_z]\n"
      ]
    },
    {
      "cell_type": "code",
      "source": [
        "funcObj = Func()\n",
        "values = [(2,4,1), (9,14,3), (128,42,666), (52,14,28)]\n"
      ],
      "metadata": {
        "id": "NEgMtPg0f4_W"
      },
      "execution_count": null,
      "outputs": []
    },
    {
      "cell_type": "code",
      "source": [
        "output_list = []\n",
        "grad_list = []\n",
        "for i in values:\n",
        "  output = funcObj.forward(i[0], i[1], i[2])\n",
        "  output_list.append(output)\n",
        "  print(f\"For the value {i}, the value of the function is {output}\")\n",
        "  grad = funcObj.backward(output)\n",
        "  grad_list.append(grad)\n",
        "  print(f\"For the value {i}, the gradiuent of the function is {grad}\")\n",
        "  print(\"\")"
      ],
      "metadata": {
        "colab": {
          "base_uri": "https://localhost:8080/"
        },
        "id": "emeElqSgf4zV",
        "outputId": "d0aa8f7a-401c-4d6f-f4f0-e64e410057b3"
      },
      "execution_count": null,
      "outputs": [
        {
          "output_type": "stream",
          "name": "stdout",
          "text": [
            "For the value (2, 4, 1), the value of the function is -0.23823101469115085\n",
            "For the value (2, 4, 1), the gradiuent of the function is [2.1417102890343507e-16, 0.43720979194276516, 0.23378829118225147]\n",
            "\n",
            "For the value (9, 14, 3), the value of the function is -1.3132617097862374\n",
            "For the value (9, 14, 3), the gradiuent of the function is [-2.5313688314302287e-15, -1.148344174369598, 2.6721617938240487e-07]\n",
            "\n",
            "For the value (128, 42, 666), the value of the function is -0.31326168751822314\n",
            "For the value (128, 42, 666), the gradiuent of the function is [1.3244281103803985e-14, -0.42245219681098717, 0.0]\n",
            "\n",
            "For the value (52, 14, 28), the value of the function is -0.31326168751822253\n",
            "For the value (52, 14, 28), the gradiuent of the function is [-6.626324387577344e-15, -0.42245219681098645, 0.0]\n",
            "\n"
          ]
        }
      ]
    },
    {
      "cell_type": "markdown",
      "metadata": {
        "id": "rYE4dEd-pdef"
      },
      "source": [
        "## Question 3 : Modular Vector Backpropagation\n",
        "\n",
        "* Construct a Linear Layer module, implementing the forward and backward functions for arbitrary sizes.\n",
        "* Construct a ReLU module, implementing the forward and backward functions for arbitrary sizes.\n",
        "* Create a 2 layer MLP using the constructed modules.\n",
        "\n",
        "* Modifying the functions built in Question 1 , train this two layer MLP for the same data set, MNIST, with the same train-val split."
      ]
    },
    {
      "cell_type": "code",
      "execution_count": null,
      "metadata": {
        "id": "0viOMFfFpden"
      },
      "outputs": [],
      "source": [
        "# Class for Linear Layer using modular approach(If you're stuck, you can refer to code of PyTorch/Tensorflow packages)\n",
        "class Linear():\n",
        "  def __init__(self, input_size, output_size):\n",
        "    sigma = np.sqrt(2/(input_size + output_size))\n",
        "    self.weights = np.random.normal(0, sigma, size=(output_size, input_size))\n",
        "\n",
        "  def forward(self, input_x):\n",
        "    self.input_x = input_x\n",
        "    self.output = np.dot(self.weights, input_x)\n",
        "    return self.output\n",
        "\n",
        "  def backward(self, grad_from_loss):\n",
        "    self.grad_weights = np.dot(grad_from_loss, self.input_x.T)\n",
        "    self.grad_input = np.dot(self.weights.T, grad_from_loss)\n",
        "    return self.grad_weights, self.grad_input"
      ]
    },
    {
      "cell_type": "code",
      "execution_count": null,
      "metadata": {
        "id": "zmlWuzv1pdfK"
      },
      "outputs": [],
      "source": [
        "# Class for ReLU\n",
        "class Relu():\n",
        "    def forward(self, input_x):\n",
        "        self.input_x = input_x\n",
        "        self.output = np.maximum(0, input_x)\n",
        "        return self.output\n",
        "\n",
        "    def backward(self, grad_from_loss):\n",
        "      self.grad_input = np.where(self.input_x > 0, grad_from_loss, 0)\n",
        "      return self.grad_input"
      ]
    },
    {
      "cell_type": "code",
      "execution_count": null,
      "metadata": {
        "id": "ppSfRLySpdfv"
      },
      "outputs": [],
      "source": [
        "# Your 2 layer MLP\n",
        "class MLP():\n",
        "    def __init__(self, input_size, hidden_size, output_size):\n",
        "        self.linear1 = Linear(input_size, hidden_size)\n",
        "        self.relu = Relu()\n",
        "        self.linear2 = Linear(hidden_size, output_size)\n",
        "\n",
        "    def forward(self, input_x):\n",
        "        self.linear1_output = self.linear1.forward(input_x)\n",
        "        self.relu_output = self.relu.forward(self.linear1_output)\n",
        "        self.linear2_output = self.linear2.forward(self.relu_output)\n",
        "        return self.linear2_output\n",
        "\n",
        "    def backward(self, grad_from_loss):\n",
        "        self.linear2_grad_weights, self.linear2_grad_input = self.linear2.backward(grad_from_loss)\n",
        "        self.relu_grad_input = self.relu.backward(self.linear2_grad_input)\n",
        "        self.linear1_grad_weights, self.linear1_grad_input = self.linear1.backward(self.relu_grad_input)\n",
        "        return self.linear2_grad_weights, self.linear1_grad_weights"
      ]
    },
    {
      "cell_type": "code",
      "source": [
        "# WRITE CODE HERE\n",
        "(x_train, y_train), (x_test, y_test) = loadData()\n",
        "x_test = x_test.reshape(len(x_test), -1).T\n",
        "x_train, y_train, x_val, y_val = splitDateTrainVal(x_train, y_train)\n",
        "x_train.shape, y_train.shape"
      ],
      "metadata": {
        "colab": {
          "base_uri": "https://localhost:8080/"
        },
        "id": "2N8WhF243NaW",
        "outputId": "c8752e2b-4372-4368-f0c9-d87317d3bc72"
      },
      "execution_count": null,
      "outputs": [
        {
          "output_type": "execute_result",
          "data": {
            "text/plain": [
              "((784, 48000), (48000, 10))"
            ]
          },
          "metadata": {},
          "execution_count": 400
        }
      ]
    },
    {
      "cell_type": "code",
      "execution_count": null,
      "metadata": {
        "id": "MyDbNSeRpdgL",
        "colab": {
          "base_uri": "https://localhost:8080/"
        },
        "outputId": "27acf55e-c2b4-4ccb-cd12-1a78325a5a3a"
      },
      "outputs": [
        {
          "output_type": "stream",
          "name": "stdout",
          "text": [
            "Start of Model Train\n"
          ]
        }
      ],
      "source": [
        "# Train the MLP\n",
        "print(\"Start of Model Train\")\n",
        "def train_model_MLP(x_train, y_train, number_of_epochs=100, learning_rate = 1e-4):\n",
        "  mlpObj = MLP(len(x_train), 300,len(y_train[0]))\n",
        "  lossList = []\n",
        "  accuracyList = []\n",
        "  for i in range(number_of_epochs):\n",
        "    minibatch = get_minibatch(x_train, y_train)\n",
        "    for iter_num,(mini_input_x , mini_input_y)in enumerate(minibatch):\n",
        "        ## Write code here for each iteration of training\n",
        "\n",
        "        # Forward pass\n",
        "        scores = mlpObj.forward(mini_input_x)\n",
        "        loss = loss_function(mini_input_y, scores)\n",
        "        lossList.append(loss)\n",
        "        accuracy = find_accuracy(mlpObj, mini_input_x, mini_input_y)\n",
        "        accuracyList.append(accuracy)\n",
        "\n",
        "        # Backward pass\n",
        "        gradFromLoss = loss_backward(scores, mini_input_y)\n",
        "        linear2_grad_weights, linear1_grad_weights = mlpObj.backward(gradFromLoss)\n",
        "\n",
        "        # Update weights\n",
        "        mlpObj.linear1.weights -= learning_rate * linear1_grad_weights\n",
        "        mlpObj.linear2.weights -= learning_rate * linear2_grad_weights\n",
        "\n",
        "        # Log the training loss value and training accuracy\n",
        "  print(f\"Iteration Number: {i} & loss: {loss} \")\n",
        "  return mlpObj, lossList, accuracyList"
      ]
    },
    {
      "cell_type": "code",
      "source": [
        "mlpObj, lossList, accuracyList = train_model_MLP(x_train, y_train, 30, 5e-3)"
      ],
      "metadata": {
        "colab": {
          "base_uri": "https://localhost:8080/"
        },
        "id": "WVcv17RK8xxI",
        "outputId": "ee498fdb-81dc-4379-f106-662fd386af69"
      },
      "execution_count": null,
      "outputs": [
        {
          "output_type": "stream",
          "name": "stdout",
          "text": [
            "Iteration Number: 29 & loss: 0.16263477031592188 \n"
          ]
        }
      ]
    },
    {
      "cell_type": "markdown",
      "metadata": {
        "id": "Gzt5ctSZK8ah"
      },
      "source": [
        "### Plot the training loss and training accuracy plot"
      ]
    },
    {
      "cell_type": "code",
      "execution_count": null,
      "metadata": {
        "id": "PFI1WOe7K8ah",
        "colab": {
          "base_uri": "https://localhost:8080/",
          "height": 449
        },
        "outputId": "31f6d58e-2659-4bb3-a36f-a74289327217"
      },
      "outputs": [
        {
          "output_type": "display_data",
          "data": {
            "text/plain": [
              "<Figure size 640x480 with 1 Axes>"
            ],
            "image/png": "[encoded data removed]"
          },
          "metadata": {}
        }
      ],
      "source": [
        "# Use the same utility functions defined in the previous question\n",
        "# WRITE CODE HERE\n",
        "#Plot the training Loss\n",
        "plt.plot(lossList)\n",
        "plt.xlabel(\"Number of Iterations\")\n",
        "plt.ylabel(\"Training Loss\")\n",
        "plt.show()"
      ]
    },
    {
      "cell_type": "code",
      "source": [
        "#Plot the accuracy\n",
        "plt.plot(accuracyList)\n",
        "plt.xlabel(\"Number of Iterations\")\n",
        "plt.ylabel(\"Training Accuracy\")\n",
        "plt.show()"
      ],
      "metadata": {
        "colab": {
          "base_uri": "https://localhost:8080/",
          "height": 449
        },
        "id": "ulDkv3fI91NA",
        "outputId": "5a1eee2b-c2bb-4d8c-c775-8a93611b0b38"
      },
      "execution_count": null,
      "outputs": [
        {
          "output_type": "display_data",
          "data": {
            "text/plain": [
              "<Figure size 640x480 with 1 Axes>"
            ],
            "image/png": "[encoded data removed]"
          },
          "metadata": {}
        }
      ]
    },
    {
      "cell_type": "code",
      "metadata": {
        "id": "WWSl70RSK8ah",
        "colab": {
          "base_uri": "https://localhost:8080/"
        },
        "outputId": "6d8fa3aa-337d-448a-d4a0-277126cad7ca"
      },
      "source": [
        "### Find the accuracy on the validation set\n",
        "accuracy = find_accuracy(mlpObj, x_val, y_val)\n",
        "print(f\"Accuracy of the model on the validation dataset is : {accuracy}\")"
      ],
      "execution_count": null,
      "outputs": [
        {
          "output_type": "stream",
          "name": "stdout",
          "text": [
            "Accuracy of the model on the validation dataset is : 96.00833333333333\n"
          ]
        }
      ]
    },
    {
      "cell_type": "code",
      "execution_count": null,
      "metadata": {
        "id": "YJ4CajJdK8ah"
      },
      "outputs": [],
      "source": [
        "# WRITE CODE HERE"
      ]
    },
    {
      "cell_type": "code",
      "execution_count": null,
      "metadata": {
        "id": "Sq1DAYzyK8ai",
        "colab": {
          "base_uri": "https://localhost:8080/"
        },
        "outputId": "668b38f4-2a55-4551-f937-1ec7732f8918"
      },
      "outputs": [
        {
          "output_type": "stream",
          "name": "stdout",
          "text": [
            "Iteration Number: 9 & loss: 5.958259016671093 \n",
            "Updated Parameters: Number of Epochs: 10, Learning Rate: 0.001, Accuracy: 86.8\n",
            "Iteration Number: 9 & loss: 9.277698772362328 \n",
            "Updated Parameters: Number of Epochs: 10, Learning Rate: 0.003, Accuracy: 88.61666666666666\n",
            "Iteration Number: 19 & loss: 1.5774382034373957 \n",
            "Updated Parameters: Number of Epochs: 20, Learning Rate: 0.001, Accuracy: 88.64166666666667\n",
            "Iteration Number: 19 & loss: 0.937695544411639 \n",
            "Updated Parameters: Number of Epochs: 20, Learning Rate: 0.003, Accuracy: 90.88333333333334\n"
          ]
        }
      ],
      "source": [
        "# Find the optimal value of learning rate and batch size.\n",
        "# Use the same tuning strategy as the previous question\n",
        "# Create plot and table to show the effect of the hparams.\n",
        "# The next step is to find the optimal value for lambda, number of epochs, learning rate and batch size.\n",
        "# CHOSE ANY TWO from the above mentioned to tune.\n",
        "# Create plot and table to show the effect of the hparams.\n",
        "number_of_epochs = [10,20]\n",
        "learning_rates = [1e-3, 3e-3]\n",
        "best_accuracy = 0\n",
        "best_number_of_epochs = None\n",
        "best_learning_rate = None\n",
        "for j in range (len(number_of_epochs)):\n",
        "  for k in range (len(learning_rates)):\n",
        "      slcObj, lossList, accuracyList = train_model_MLP(x_train, y_train, number_of_epochs[j], learning_rates[k])\n",
        "      accuracy = find_accuracy(slcObj, x_val, y_val)\n",
        "      if accuracy > best_accuracy:\n",
        "        best_accuracy = accuracy\n",
        "        best_number_of_epochs = number_of_epochs[j]\n",
        "        best_learning_rate = learning_rates[k]\n",
        "        print(f\"Updated Parameters: Number of Epochs: {number_of_epochs[j]}, Learning Rate: {learning_rates[k]}, Accuracy: {accuracy}\")"
      ]
    },
    {
      "cell_type": "code",
      "source": [
        "best_accuracy, best_number_of_epochs, best_learning_rate"
      ],
      "metadata": {
        "colab": {
          "base_uri": "https://localhost:8080/"
        },
        "id": "f71TUE0mO7vD",
        "outputId": "ec864010-f442-4f3c-8913-059184bb9766"
      },
      "execution_count": null,
      "outputs": [
        {
          "output_type": "execute_result",
          "data": {
            "text/plain": [
              "(90.88333333333334, 20, 0.003)"
            ]
          },
          "metadata": {},
          "execution_count": 396
        }
      ]
    },
    {
      "cell_type": "code",
      "metadata": {
        "id": "bzIvZx6EK8ai",
        "colab": {
          "base_uri": "https://localhost:8080/"
        },
        "outputId": "0226293b-9b7e-44d9-c739-11f68e449ba0"
      },
      "source": [
        "### Report final performance on MNIST test set\n",
        "accuracy = find_accuracy(mlpObj, x_test, y_test)\n",
        "print(f\"Accuracy of the model on the test dataset is : {accuracy}\")"
      ],
      "execution_count": null,
      "outputs": [
        {
          "output_type": "stream",
          "name": "stdout",
          "text": [
            "Accuracy of the model on the test dataset is : 96.04\n"
          ]
        }
      ]
    },
    {
      "cell_type": "code",
      "execution_count": null,
      "metadata": {
        "id": "yAtvXF3DK8ai"
      },
      "outputs": [],
      "source": [
        "# WRITE CODE HERE\n"
      ]
    },
    {
      "cell_type": "markdown",
      "metadata": {
        "id": "JT21riJJK8ai"
      },
      "source": [
        "### Find the best performing class and the worst performing class"
      ]
    },
    {
      "cell_type": "code",
      "execution_count": null,
      "metadata": {
        "id": "DxFA5-wyK8ai",
        "colab": {
          "base_uri": "https://localhost:8080/"
        },
        "outputId": "801550d8-fd70-4a27-88e4-3b29c38228a7"
      },
      "outputs": [
        {
          "output_type": "stream",
          "name": "stdout",
          "text": [
            "Best Performing Class: 1.0\n",
            "Worst Performing Class: 0.0\n"
          ]
        }
      ],
      "source": [
        "# WRITE CODE HERE\n",
        "best, worst = find_best_worst_class(mlpObj, x_test, y_test)\n",
        "print(f\"Best Performing Class: {best}\")\n",
        "print(f\"Worst Performing Class: {worst}\")"
      ]
    },
    {
      "cell_type": "markdown",
      "metadata": {
        "id": "ffWIpTsAK8ai"
      },
      "source": [
        "### Any additional observations / comments?"
      ]
    },
    {
      "cell_type": "markdown",
      "source": [
        "We can see that the 2 layer MLP performs better than the single layer MLP and  scikit learn in test accuracy."
      ],
      "metadata": {
        "id": "J7kFz0EyyBJ6"
      }
    },
    {
      "cell_type": "markdown",
      "metadata": {
        "id": "0XRQ_PBTK8ai"
      },
      "source": [
        "## BONUS Question\n",
        "### Observe the effect on test set accuracy by changing the number of training samples.\n",
        "### Train on 10%, 20% and 50% training data and plot the percentage of training data v.s. the test accuracy.  "
      ]
    },
    {
      "cell_type": "code",
      "execution_count": null,
      "metadata": {
        "id": "_kMDAbiAK8ai",
        "colab": {
          "base_uri": "https://localhost:8080/"
        },
        "outputId": "ac9b461e-3d24-48dc-ce08-fbe57a0b39ac"
      },
      "outputs": [
        {
          "output_type": "stream",
          "name": "stdout",
          "text": [
            "Iteration Number: 9 & loss: 0.3333015507084589 \n",
            "Accuracy of the model on the 10.0 % train Data is 89.71666666666667 and on the test dataset is : 88.61\n",
            "Iteration Number: 9 & loss: 0.45045050535825126 \n",
            "Accuracy of the model on the 20.0 % train Data is 91.19166666666668 and on the test dataset is : 90.05\n",
            "Iteration Number: 9 & loss: 0.5861344862338838 \n",
            "Accuracy of the model on the 50.0 % train Data is 92.67333333333333 and on the test dataset is : 92.78999999999999\n"
          ]
        }
      ],
      "source": [
        "# WRITE CODE HERE\n",
        "train_pecentages = [0.1, 0.2, 0.5]\n",
        "accuracy_percentagetrainList = []\n",
        "accuracy_percentagetestList = []\n",
        "(x_train, y_train), (x_test, y_test) = loadData()\n",
        "x_test = x_test.reshape(len(x_test), -1).T\n",
        "for train_percentage in train_pecentages:\n",
        "  accuracy_trainList = []\n",
        "  accuracy_testList = []\n",
        "  x_train_split, y_train_split, x_val_split, y_val_split  = splitDateTrainVal(x_train, y_train, train_percentage)\n",
        "\n",
        "  mlpObj, lossList, accuracyList = train_model_MLP(x_train_split, y_train_split, 10, 5e-3)\n",
        "  accuracy_train = find_accuracy(mlpObj, x_train_split, y_train_split)\n",
        "  accuracy_trainList.append(accuracy_train)\n",
        "\n",
        "  accuracy_test = find_accuracy(mlpObj, x_test, y_test)\n",
        "  accuracy_testList.append(accuracy_test)\n",
        "  accuracy_percentagetrainList.append(accuracy_trainList)\n",
        "  accuracy_percentagetestList.append(accuracy_testList)\n",
        "  print(f\"Accuracy of the model on the {train_percentage * 100} % train Data is {accuracy_train} and on the test dataset is : {accuracy_test}\")"
      ]
    },
    {
      "cell_type": "markdown",
      "metadata": {
        "id": "KX-cXeY3pdhr"
      },
      "source": [
        "\n",
        "# Implementing a Convolution Module with Numpy\n",
        "\n",
        "* This topic will require you to implement the Convolution operation using Numpy.\n",
        "* We will use the Module for tasks like Blurring.\n",
        "* Finally, we implement Backpropagation for the convolution module.\n"
      ]
    },
    {
      "cell_type": "markdown",
      "metadata": {
        "id": "kHeieqicpdhz"
      },
      "source": [
        "## Question 4\n",
        "\n",
        "* Implement a naive Convolution module, with basic functionalities: kernel_size, padding, stride and dilation\n",
        "  \n",
        "* Test out the convolution layer by using it to do gaussian blurring on 10 random images of CIFAR-10 dataset\n"
      ]
    },
    {
      "cell_type": "code",
      "source": [
        "## Define a class Convolution Layer, which is initialized with the various required params:\n",
        "class Convolution_Layer():\n",
        "\n",
        "  def __init__(self, in_channel, filter_size, out_channel,stride=1, padding=0, bias=True, dilation=1):\n",
        "      # For an untrained layer, set random initial filter weights\n",
        "      self.filter_size = filter_size\n",
        "      self.out_channel = out_channel\n",
        "      self.bias = bias\n",
        "      self.stride = stride\n",
        "      self.padding = padding\n",
        "      self.dilation = dilation\n",
        "      self.filter_weight = np.ones((out_channel, in_channel, filter_size, filter_size))\n",
        "      if(self.dilation > 1):\n",
        "        new_dilaiton_size = self.dilation * (self.filter_size -1) + 1\n",
        "        newWeight = np.zeros((out_channel, in_channel, new_dilaiton_size, new_dilaiton_size))\n",
        "        for i in range(self.filter_size):\n",
        "          for j in range(self.filter_size):\n",
        "            newWeight[:, :, i*self.dilation, j*self.dilation] = self.filter_weight[:, :, i, j]\n",
        "        self.filter_weight = newWeight\n",
        "        self.filter_size = new_dilaiton_size\n",
        "\n",
        "\n",
        "\n",
        "  def forward(self,input, perChannel = False):\n",
        "      # Input Proprocess(According to pad etc.) Input will be of size (Batch_size, in_channels, inp_height, inp_width)\n",
        "\n",
        "      # Reminder: Save Input for backward-prop\n",
        "      # Simple Conv operation:\n",
        "      # Loop over every location in inp_height * inp_width for the whole batch\n",
        "      batch_size, in_channels, inp_height, inp_width = input.shape\n",
        "      out_height = (inp_height + 2 * self.padding - self.filter_size) // self.stride + 1\n",
        "      out_width = (inp_width + 2 * self.padding - self.filter_size) // self.stride + 1\n",
        "\n",
        "      if(out_height< 0 or out_width < 0):\n",
        "          print(out_width)\n",
        "          raise Exception(\"Invalid Operation\")\n",
        "\n",
        "      out_channels = self.out_channel\n",
        "      out_height = int(out_height)\n",
        "      out_width = int(out_width)\n",
        "      output = np.zeros((batch_size, out_channels, out_height, out_width))\n",
        "      self.input = np.pad(input, ((0, 0), (0, 0), (self.padding, self.padding), (self.padding, self.padding)), 'constant')\n",
        "\n",
        "      for batch in range(batch_size):\n",
        "          for channel in range(out_channels):\n",
        "              for i in range(out_height):\n",
        "                  for j in range(out_width):\n",
        "                    if(perChannel):\n",
        "\n",
        "                      output[batch, channel, i, j] =  np.sum(self.input[batch,\n",
        "                                                                  channel,\n",
        "                                                                  i*self.stride:i*self.stride + self.filter_size,\n",
        "                                                                  j*self.stride:j*self.stride + self.filter_size]\n",
        "                                                            * self.filter_weight[channel])\n",
        "                    else:\n",
        "                      output[batch, channel, i, j] =  np.sum(self.input[batch,\n",
        "                                                                  :,\n",
        "                                                                  i*self.stride:i*self.stride + self.filter_size,\n",
        "                                                                  j*self.stride:j*self.stride + self.filter_size]\n",
        "                                                            * self.filter_weight[channel])\n",
        "\n",
        "      # Output will be of the size (Batch_size, out_channels, out_height, out_width)\n",
        "      return output\n",
        "\n",
        "  def backward(self, grad_of_output_size):\n",
        "\n",
        "      # Naive Implementation\n",
        "      # Speed is not a concern\n",
        "      # Hint: gradients from each independant operation can be summed\n",
        "\n",
        "      #  return gradient of the size of the weight kernel\n",
        "      batch_size, in_channels, inp_height, inp_width = self.input.shape\n",
        "      filter_size = int((self.filter_size - 1)/ self.dilation + 1)\n",
        "      grad_of_weights = np.zeros((self.out_channel, in_channels, filter_size, filter_size))\n",
        "\n",
        "      if(self.stride > 1):\n",
        "        new_filter_size = grad_of_output_size.shape[2]\n",
        "        new_dilaiton_size = self.stride * (new_filter_size -1) + 1\n",
        "        dilatedGradOutput = np.zeros((grad_of_output_size.shape[0], grad_of_output_size.shape[1], new_dilaiton_size, new_dilaiton_size))\n",
        "\n",
        "        for i in range(new_filter_size):\n",
        "          for j in range(new_filter_size):\n",
        "            dilatedGradOutput[:, :, i*self.stride, j*self.stride] = grad_of_output_size[:, :, i, j]\n",
        "\n",
        "        grad_of_output_size = dilatedGradOutput\n",
        "      grad_of_output_size = np.transpose(grad_of_output_size, (1,0,2,3))\n",
        "      input = np.transpose(self.input, (1,0,2,3))\n",
        "\n",
        "      # calculating the grad of weights\n",
        "      for batch in range(batch_size):\n",
        "        for channel in range(in_channels):\n",
        "          for out_channel in range(self.out_channel):\n",
        "            for i in range(filter_size):\n",
        "              for j in range(filter_size):\n",
        "                grad_of_weights[out_channel, channel, i, j] = np.sum(input[channel,\n",
        "                                                              batch,\n",
        "                                                              i*self.dilation:i*self.dilation + grad_of_output_size.shape[2],\n",
        "                                                              j*self.dilation:j*self.dilation + grad_of_output_size.shape[3]]\n",
        "                                                        * grad_of_output_size[out_channel, batch, :, :])\n",
        "      grad_of_output_size = np.transpose(grad_of_output_size, (1,0,2,3))\n",
        "      return grad_of_weights\n",
        "\n",
        "  def set_weights(self, new_weights):\n",
        "      ## Replace the set of weights with the given 'new_weights'\n",
        "      ## use this for setting weights for blurring, bilateral filtering etc.\n",
        "      ## new_weights is of size (in_channel, filter_size, filter_size)\n",
        "      if(self.dilation > 1):\n",
        "        new_filter_size = new_weights.shape[2]\n",
        "        new_dilaiton_size = self.dilation * (new_filter_size -1) + 1\n",
        "        newWeightFilter = np.zeros((new_weights.shape[0], new_weights.shape[1], new_dilaiton_size, new_dilaiton_size))\n",
        "\n",
        "        for i in range(new_filter_size):\n",
        "          for j in range(new_filter_size):\n",
        "            newWeightFilter[:, :, i*self.dilation, j*self.dilation] = new_weights[:, :, i, j]\n",
        "        self.filter_weight = newWeightFilter\n",
        "        self.filter_size = new_dilaiton_size\n",
        "        self.out_channel = new_weights.shape[0]\n",
        "      else:\n",
        "        self.filter_size = new_weights.shape[2]\n",
        "        self.filter_weight = new_weights\n",
        "        self.out_channel = new_weights.shape[0]"
      ],
      "metadata": {
        "id": "9IX7gCIIxEEY"
      },
      "execution_count": null,
      "outputs": []
    },
    {
      "cell_type": "code",
      "metadata": {
        "id": "TDoqiua8pdia"
      },
      "source": [
        "### Download CIFAR-10 images and load it in a numpy array (https://www.cs.toronto.edu/~kriz/cifar.html)\n",
        "import pickle\n",
        "def unpickle(file):\n",
        "    with open(file, 'rb') as fo:\n",
        "        dict = pickle.load(fo, encoding='bytes')\n",
        "    return dict\n",
        "path = '/content/drive/MyDrive/IISC/Second Semester/DLCV/cifar-10-batches-py/'\n",
        "x_train=unpickle(path + 'data_batch_1')\n",
        "x_train=x_train[b'data']\n",
        "for i in ['2','3','4','5']:\n",
        "    data1=unpickle(path + 'data_batch_'+i)\n",
        "    data1=data1[b'data']\n",
        "    x_train=np.concatenate([x_train,data1],axis=0)\n",
        "x_test=unpickle(path + 'test_batch')\n",
        "x_test=x_test[b'data']\n"
      ],
      "execution_count": null,
      "outputs": []
    },
    {
      "cell_type": "code",
      "execution_count": null,
      "metadata": {
        "id": "W3gZfJbAK8aj",
        "colab": {
          "base_uri": "https://localhost:8080/"
        },
        "outputId": "2a25c0e4-3e86-44c7-ef35-0a8dd67bcb72"
      },
      "outputs": [
        {
          "output_type": "execute_result",
          "data": {
            "text/plain": [
              "((50000, 3, 32, 32), (10000, 3, 32, 32))"
            ]
          },
          "metadata": {},
          "execution_count": 282
        }
      ],
      "source": [
        "# WRITE CODE HERE\n",
        "x_train = x_train.reshape(50000, 3, 32, 32)\n",
        "x_test = x_test.reshape(10000, 3, 32, 32)\n",
        "x_train.shape, x_test.shape"
      ]
    },
    {
      "cell_type": "markdown",
      "metadata": {
        "id": "JDAmH1jQK8aj"
      },
      "source": [
        "### Initialize a conv layer. Set weights for gaussian blurring (do not train the filter for this part). Visualise the filters using matplotlib\n"
      ]
    },
    {
      "cell_type": "code",
      "source": [
        "def gaussian_kernel(size, sigma=1):\n",
        "    \"\"\"Generates a 2D Gaussian kernel.\"\"\"\n",
        "    ax = np.linspace(-(size // 2), size // 2, size)\n",
        "    xx, yy = np.meshgrid(ax, ax)\n",
        "    kernel = np.exp(-(xx**2 + yy**2) / (2 * sigma**2))\n",
        "    return kernel / np.sum(kernel)\n"
      ],
      "metadata": {
        "id": "ik3nuKazYm1q"
      },
      "execution_count": null,
      "outputs": []
    },
    {
      "cell_type": "code",
      "execution_count": null,
      "metadata": {
        "id": "__a5lO7pK8aj"
      },
      "outputs": [],
      "source": [
        "# WRITE CODE HERE\n",
        "# use the gaussian blurring filter in the Conv Layer weights\n",
        "conv = Convolution_Layer(1, 5, 1, stride=1, padding=2, bias=False, dilation=1)\n",
        "new_weights= gaussian_kernel(5).reshape(1, 1, 5, 5)\n",
        "new_weights_out_channeled = np.zeros((3, 1, 5, 5))\n",
        "for i in range(3):\n",
        "  new_weights_out_channeled[i] = new_weights\n",
        "new_weights = new_weights_out_channeled"
      ]
    },
    {
      "cell_type": "code",
      "source": [
        "conv.set_weights(new_weights)\n",
        "output_iamge = conv.forward(x_train[0].reshape(1, 3,32,32), perChannel = True).astype(np.uint8)"
      ],
      "metadata": {
        "id": "ts5Avd_F8kj0"
      },
      "execution_count": null,
      "outputs": []
    },
    {
      "cell_type": "code",
      "source": [
        "output_iamge.shape"
      ],
      "metadata": {
        "colab": {
          "base_uri": "https://localhost:8080/"
        },
        "id": "XB38LA1NJ-95",
        "outputId": "13e7562f-5722-44dd-9560-0cb137321894"
      },
      "execution_count": null,
      "outputs": [
        {
          "output_type": "execute_result",
          "data": {
            "text/plain": [
              "(1, 3, 32, 32)"
            ]
          },
          "metadata": {},
          "execution_count": 208
        }
      ]
    },
    {
      "cell_type": "code",
      "source": [
        "plt.imshow(output_iamge.reshape(3, 32, 32).T)\n",
        "plt.show()"
      ],
      "metadata": {
        "colab": {
          "base_uri": "https://localhost:8080/",
          "height": 430
        },
        "id": "2h2qrokSKAxS",
        "outputId": "e501a1e1-50e9-4e55-9240-910bc443cf13"
      },
      "execution_count": null,
      "outputs": [
        {
          "output_type": "display_data",
          "data": {
            "text/plain": [
              "<Figure size 640x480 with 1 Axes>"
            ],
            "image/png": "[encoded data removed]"
          },
          "metadata": {}
        }
      ]
    },
    {
      "cell_type": "code",
      "source": [
        "#Visualizing the Gaussian Blurring filter\n",
        "plt.imshow(new_weights[0].reshape( 1,5,5).T)\n",
        "plt.show()"
      ],
      "metadata": {
        "colab": {
          "base_uri": "https://localhost:8080/",
          "height": 430
        },
        "id": "g4OjgZL4ehUW",
        "outputId": "c43c859b-85f8-47ba-de94-3191b79d1b13"
      },
      "execution_count": null,
      "outputs": [
        {
          "output_type": "display_data",
          "data": {
            "text/plain": [
              "<Figure size 640x480 with 1 Axes>"
            ],
            "image/png": "[encoded data removed]"
          },
          "metadata": {}
        }
      ]
    },
    {
      "cell_type": "markdown",
      "metadata": {
        "id": "jDFPnuVCK8aj"
      },
      "source": [
        "### Generate output for the first 5 images of the training set"
      ]
    },
    {
      "cell_type": "code",
      "source": [
        "new_weights= gaussian_kernel(5).reshape(1, 1, 5, 5)\n",
        "new_weights_out_channeled = np.zeros((3, 1, 5, 5))\n",
        "for i in range(3):\n",
        "  new_weights_out_channeled[i] = new_weights\n",
        "new_weights = new_weights_out_channeled"
      ],
      "metadata": {
        "id": "Djn-J6BtP6x5"
      },
      "execution_count": null,
      "outputs": []
    },
    {
      "cell_type": "code",
      "execution_count": null,
      "metadata": {
        "id": "F1uPipY0K8aj"
      },
      "outputs": [],
      "source": [
        "# WRITE CODE HERE\n",
        "image_list = []\n",
        "conv = Convolution_Layer(3, 5, 3, stride=1, padding=2, bias=False, dilation=1)\n",
        "conv.set_weights(new_weights)\n",
        "for i in range(5):\n",
        "  output_img = conv.forward(x_train[i].reshape(1, 3,32,32), perChannel = True).astype(np.uint8)\n",
        "  image_list.append(output_img)"
      ]
    },
    {
      "cell_type": "markdown",
      "metadata": {
        "id": "Q6vjOgIcK8aj"
      },
      "source": [
        "### Use matplotlib to show the input and corresponding blurred output"
      ]
    },
    {
      "cell_type": "code",
      "execution_count": null,
      "metadata": {
        "id": "D1fMfzgfK8aj",
        "colab": {
          "base_uri": "https://localhost:8080/",
          "height": 1000
        },
        "outputId": "db66558a-bde4-4fdc-c47c-8b4d1cbbbd9e"
      },
      "outputs": [
        {
          "output_type": "display_data",
          "data": {
            "text/plain": [
              "<Figure size 640x480 with 2 Axes>"
            ],
            "image/png": "[encoded data removed]"
          },
          "metadata": {}
        },
        {
          "output_type": "display_data",
          "data": {
            "text/plain": [
              "<Figure size 640x480 with 2 Axes>"
            ],
            "image/png": "[encoded data removed]"
          },
          "metadata": {}
        },
        {
          "output_type": "display_data",
          "data": {
            "text/plain": [
              "<Figure size 640x480 with 2 Axes>"
            ],
            "image/png": "[encoded data removed]"
          },
          "metadata": {}
        },
        {
          "output_type": "display_data",
          "data": {
            "text/plain": [
              "<Figure size 640x480 with 2 Axes>"
            ],
            "image/png": "[encoded data removed]"
          },
          "metadata": {}
        },
        {
          "output_type": "display_data",
          "data": {
            "text/plain": [
              "<Figure size 640x480 with 2 Axes>"
            ],
            "image/png": "[encoded data removed]"
          },
          "metadata": {}
        }
      ],
      "source": [
        "# WRITE CODE HERE\n",
        "for i in range(5):\n",
        "  plt.subplot(1, 2, 1)\n",
        "  plt.imshow(x_train[i].reshape(3,32,32).T)\n",
        "  plt.subplot(1, 2, 2)\n",
        "  plt.imshow(image_list[i].reshape(3,32,32).T)\n",
        "  plt.show()"
      ]
    },
    {
      "cell_type": "markdown",
      "metadata": {
        "id": "zmsPeOEOpdi8"
      },
      "source": [
        "## Question 5\n",
        "<br>\n",
        "Now we will use this module for training a simple Convolution Layer using CIFAR-10 images.\n",
        "\n",
        "* The goal is to learn a set of weights, by using the backpropagation function created. To test the backpropagation, instead of training a whole network, we will train only a single layer.\n",
        "  * Instantiate a Convolution  layer $C_0$ with 20 filters, each with size 5$\\times$5 (RGB image, so 3 input channels). Load the given numpy array of size (20,3,5,5), which represents the weights of a convolution layer. Set the given values as the filter weights for $C_0$. Take 100 CIFAR-10 images. Save the output of these 100 images generated from this Convolution layer $C_0$.\n",
        "  \n",
        "  * Now, initialize a new convolution layer $C$ with weight values sampled from uniform distribution [-1,1]. Use the $L_2$ loss between the output of this layer $C$ and the output generated in the previous step to learn the filter weights of $C_0$.\n"
      ]
    },
    {
      "cell_type": "code",
      "execution_count": null,
      "metadata": {
        "id": "p8dGnMHOpdjD"
      },
      "outputs": [],
      "source": [
        "## Load filter weights from given numpy array \"C0_weights.npy\".\n",
        "filter_weight = np.load(\"/content/drive/MyDrive/IISC/Second Semester/DLCV/C0_weights.npy\")\n",
        "filter_weight.shape\n",
        "## Init a conv layer C_0 with these given weights\n",
        "conv_0 = Convolution_Layer(3, 5, 20, stride=1, padding=2, bias=False, dilation=1)\n",
        "conv_0.set_weights(filter_weight)\n",
        "## For all images get output. Store in numpy array.\n",
        "output_list = []\n",
        "for i in range(10):\n",
        "  output_img = conv_0.forward(x_train[i].reshape(1, 3,32,32)).astype(np.uint8)\n",
        "  output_list.append(output_img)\n"
      ]
    },
    {
      "cell_type": "code",
      "source": [
        "output_list = np.array(output_list).reshape(10, 20, 32, 32)\n",
        "output_list.shape"
      ],
      "metadata": {
        "colab": {
          "base_uri": "https://localhost:8080/"
        },
        "id": "w54OnweoRjFN",
        "outputId": "aed2b611-6733-4546-b4c3-8abf044e335a"
      },
      "execution_count": null,
      "outputs": [
        {
          "output_type": "execute_result",
          "data": {
            "text/plain": [
              "(10, 20, 32, 32)"
            ]
          },
          "metadata": {},
          "execution_count": 219
        }
      ]
    },
    {
      "cell_type": "code",
      "source": [
        "def get_minibatch_images(training_x, batchSize = 32, index = 0):\n",
        "    ## Read about Python generators if required.\n",
        "\n",
        "    ## WRITE CODE HERE\n",
        "    mini_x = []\n",
        "    sequence = random.sample(range(training_x.shape[index]), training_x.shape[index])\n",
        "    count = 1\n",
        "    for i in range(training_x.shape[index]):\n",
        "      mini_x.append(training_x[sequence[i], :, :, :])\n",
        "      if(len(mini_x) == batchSize):\n",
        "        yield np.array(mini_x)\n",
        "        mini_x = []\n",
        "\n",
        "    if mini_x:\n",
        "      yield np.array(mini_x).T"
      ],
      "metadata": {
        "id": "SmS5glJvhsPr"
      },
      "execution_count": null,
      "outputs": []
    },
    {
      "cell_type": "code",
      "execution_count": null,
      "metadata": {
        "id": "nhhHA4UCpdji"
      },
      "outputs": [],
      "source": [
        "# for part 2 we need to write a class for the  L2 loss\n",
        "class L2_loss():\n",
        "    def ___init__(self):\n",
        "      self.loss = 0\n",
        "\n",
        "\n",
        "    def forward(self, C0_output,C_output):\n",
        "        # Conv. output is of dimension (batchsize,channels,height,width)\n",
        "        # calculate the L2 norm of (C0_output - C_output)\n",
        "        # differnce = C0_output - C_output\n",
        "        differnce = C_output - C0_output\n",
        "        loss = np.sum(differnce**2)\n",
        "        self.differnce = differnce\n",
        "        self.loss = loss\n",
        "        return loss\n",
        "\n",
        "    def backward(self):\n",
        "        # from the loss, and the conv. output, get the grad at each location\n",
        "        # The grad is of the shape (batchsize,channels,height,width)\n",
        "        grad = 2 * self.differnce\n",
        "        return grad\n",
        "\n",
        "# Now Init a new conv layer C and a L2 loss layer\n",
        "\n",
        "\n",
        "# Train the new conv-layer C using the L2 loss to learn C_0, i.e., the set of given weights.\n",
        "# Use mini-batches if required\n",
        "def train_model_CNN(conv, conv0, l2_loss, learning_rate = 1e-3, max_iteration = 100, batch_size = 128):\n",
        "  loss_list = []\n",
        "  for i in range(max_iteration):\n",
        "    minibatch = get_minibatch_images(x_train[:100], batch_size, index = 0)\n",
        "    avg_loss = 0\n",
        "    for iter_num,(mini_input_x)in enumerate(minibatch):\n",
        "      # print(iter_num)\n",
        "      c_output_list = []\n",
        "      c0_output_list = []\n",
        "      mini_input_x = mini_input_x.reshape(len(mini_input_x), 3,32,32)\n",
        "      c_output = conv.forward(mini_input_x/255)\n",
        "      c0_output = conv_0.forward(mini_input_x/255)\n",
        "\n",
        "      loss = l2_loss.forward(c0_output, c_output)\n",
        "      # print(loss)\n",
        "\n",
        "      loss_list.append(loss)\n",
        "      grad = l2_loss.backward()\n",
        "      grad_weights = conv.backward(grad)\n",
        "      conv.filter_weight -= learning_rate * grad_weights\n",
        "      avg_loss += loss\n",
        "\n",
        "    avg_loss = avg_loss / (iter_num + 1)\n",
        "    print(avg_loss)\n",
        "\n",
        "\n",
        "# Print L2 dist between output from the new trained convolution layer C and the outputs generated from C_0.\n"
      ]
    },
    {
      "cell_type": "code",
      "source": [
        "conv = Convolution_Layer(3, 5, 20, stride=1, padding=2, bias=False, dilation=1)\n",
        "conv_0 = Convolution_Layer(3, 5, 20, stride=1, padding=2, bias=False, dilation=1)\n",
        "conv_0.set_weights(filter_weight)\n",
        "conv.set_weights(np.random.uniform(-1, 1, (20, 3, 5, 5)))\n",
        "l2_loss = L2_loss()\n",
        "train_model_CNN(conv,conv_0, l2_loss, 5e-5, 100, 1)"
      ],
      "metadata": {
        "colab": {
          "base_uri": "https://localhost:8080/"
        },
        "id": "FrZsDfNPZPR8",
        "outputId": "d795014d-2032-43d7-8275-a745c966226b"
      },
      "execution_count": null,
      "outputs": [
        {
          "output_type": "stream",
          "name": "stdout",
          "text": [
            "27255.096890568984\n",
            "3053.7709426142596\n",
            "3587.0572264383522\n",
            "1351.0094621725768\n",
            "1139.0648031863043\n",
            "938.5047322121976\n",
            "813.9673173012994\n",
            "726.6367729194067\n",
            "655.3531222265045\n",
            "599.3580251145098\n",
            "553.3477621952101\n",
            "513.7903284275486\n",
            "485.4037070647492\n",
            "444.3017561703028\n",
            "418.7864516663019\n",
            "390.9270971299928\n",
            "371.7683086777974\n",
            "350.917644748183\n",
            "335.650818493533\n",
            "314.31461381686904\n",
            "299.49376324900527\n",
            "286.63412875745956\n",
            "273.4411168306351\n",
            "262.09159538474216\n",
            "253.08409860239928\n",
            "245.90386778834875\n",
            "230.98980418808958\n",
            "225.2012494959051\n",
            "214.4748579015721\n",
            "207.99362287098992\n",
            "211.33026319054142\n",
            "193.69589868308026\n",
            "187.9062925246803\n",
            "183.5712094044433\n",
            "177.4960410992415\n",
            "171.40816097726648\n",
            "168.34923342186244\n",
            "163.4177490293075\n",
            "159.0592369407276\n",
            "155.52242762715036\n",
            "152.0938542938651\n",
            "146.204946778652\n",
            "144.66559771333118\n",
            "139.6032002297958\n",
            "136.457636913552\n",
            "134.70823271552482\n",
            "130.54154889259672\n",
            "127.38779684805006\n",
            "125.5098778106077\n",
            "135.41677129425872\n",
            "119.64855347188445\n",
            "117.27841429477311\n",
            "114.88540257128587\n",
            "112.58883857198529\n",
            "110.82343141014243\n",
            "112.94355858656441\n",
            "106.4573268304876\n",
            "105.59281145071165\n",
            "102.75615623631445\n",
            "101.18310871016509\n",
            "99.13371437647123\n",
            "111.5321425884516\n",
            "98.83995068773044\n",
            "93.9728473030148\n",
            "92.48539575467699\n",
            "90.9114637433595\n",
            "89.71545116416429\n",
            "88.9874891574731\n",
            "86.75173861019128\n",
            "85.28617318416366\n",
            "84.27396139120843\n",
            "83.14246355173756\n",
            "81.73155355214857\n",
            "80.36760068026338\n",
            "81.85027115163922\n",
            "77.96649415801262\n",
            "77.06969437544082\n",
            "75.8794617081193\n",
            "74.98153082937102\n",
            "73.83957809458556\n",
            "72.66714427560456\n",
            "71.64669875043741\n",
            "70.76009568679467\n",
            "69.78978526561518\n",
            "68.8175750480108\n",
            "68.00329188766342\n",
            "67.25414604609786\n",
            "66.40324306354736\n",
            "65.33635635908847\n",
            "64.76150527910534\n",
            "64.20845853765115\n",
            "62.99125868729292\n",
            "62.17240558836963\n",
            "61.430604888818536\n",
            "60.6874107678534\n",
            "60.44258539976337\n",
            "59.26035155249236\n",
            "59.098091834871084\n",
            "57.88346235696048\n",
            "57.281248011963186\n"
          ]
        }
      ]
    },
    {
      "cell_type": "code",
      "source": [
        "training_data = x_train[:100]\n",
        "training_data = training_data.reshape(100, 3, 32, 32)\n",
        "c_output = conv.forward(training_data/255)\n",
        "c0_output = conv_0.forward(training_data/255)"
      ],
      "metadata": {
        "id": "BR4d8UO23Zgy"
      },
      "execution_count": null,
      "outputs": []
    },
    {
      "cell_type": "code",
      "source": [
        "l2_norm = np.linalg.norm(c0_output - c_output)\n",
        "print(f\"L2 norm between the two outputs is {l2_norm}\")"
      ],
      "metadata": {
        "colab": {
          "base_uri": "https://localhost:8080/"
        },
        "id": "6005vwZthoND",
        "outputId": "17fb83c5-e640-49f1-f02a-e7e773679da7"
      },
      "execution_count": null,
      "outputs": [
        {
          "output_type": "stream",
          "name": "stdout",
          "text": [
            "L2 norm between the two outputs is 75.29393946336664\n"
          ]
        }
      ]
    },
    {
      "cell_type": "code",
      "source": [],
      "metadata": {
        "id": "TjNKPutq3yjT"
      },
      "execution_count": null,
      "outputs": []
    }
  ],
  "metadata": {
    "anaconda-cloud": {},
    "colab": {
      "provenance": []
    },
    "interpreter": {
      "hash": "6945496b114ae6c8dbcad4f53e4fc084fdd8255c08c862c02a1152642bece680"
    },
    "kernelspec": {
      "display_name": "Python 2",
      "language": "python",
      "name": "python3"
    },
    "language_info": {
      "codemirror_mode": {
        "name": "ipython",
        "version": 3
      },
      "file_extension": ".py",
      "mimetype": "text/x-python",
      "name": "python",
      "nbconvert_exporter": "python",
      "pygments_lexer": "ipython3",
      "version": "3.9.1"
    }
  },
  "nbformat": 4,
  "nbformat_minor": 0
}